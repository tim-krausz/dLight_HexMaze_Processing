{
 "cells": [
  {
   "cell_type": "code",
   "execution_count": null,
   "id": "978db75b-20f7-4acb-91a6-8c946b26f9c2",
   "metadata": {},
   "outputs": [],
   "source": [
    "import numpy as np\n",
    "import matplotlib.pyplot as plt\n",
    "import pandas as pd\n",
    "import seaborn as sns\n",
    "sns.set()\n",
    "plt.style.use('default')\n",
    "#plt.style.use(\"seaborn-poster\")\n",
    "plt.style.use(\"seaborn-talk\")\n",
    "from combined_phot_funcs import *\n",
    "from photometryQuantifications import *#removeErrantBlock1Assignments\n",
    "%matplotlib qt"
   ]
  },
  {
   "cell_type": "markdown",
   "id": "57cc8e4c-a3c0-440c-825b-fdc0f8bff8ce",
   "metadata": {},
   "source": [
    "# create saline and cocaine photometry PhotRats objects.\n",
    "- seshdicts are dictionaries of key = rat and values = dates within rat."
   ]
  },
  {
   "cell_type": "code",
   "execution_count": null,
   "id": "0f9fde71-fdd6-4534-8ccf-71b6f8f4bddf",
   "metadata": {},
   "outputs": [],
   "source": [
    "seshDict = {\"IM-1532\":[\"12142022\"],\"IM-1533\":[\"12142022\"]}#{\"IM-1434\":[\"04132022\",\"04192022\"]}\n",
    "salRats = PhotRats(seshDict)\n",
    "salRats.directory_prefix=\"/Volumes/Tim/Photometry/\"\n",
    "salRats.load_dfs()\n",
    "seshDict = {\"IM-1532\":[\"12132022\"],\"IM-1533\":[\"12132022\"]}#{\"IM-1434\":[\"04202022\"]}\n",
    "cokeRats = PhotRats(seshDict)\n",
    "cokeRats.directory_prefix=\"/Volumes/Tim/Photometry/\"\n",
    "cokeRats.load_dfs()"
   ]
  },
  {
   "cell_type": "markdown",
   "id": "cb0afa48-8fcb-43a5-ae88-47c7123c0750",
   "metadata": {},
   "source": [
    "## minor data processing for memory etc."
   ]
  },
  {
   "cell_type": "code",
   "execution_count": null,
   "id": "e0bf70c1-2224-4940-b080-f607b5c07f3a",
   "metadata": {},
   "outputs": [],
   "source": [
    "cokeRats.df.loc[cokeRats.df.port.isnull(),\"port\"]=-100\n",
    "salRats.df.loc[salRats.df.port.isnull(),\"port\"]=-100\n",
    "cokeRats.df.loc[cokeRats.df.rwd.isnull(),'rwd'] = 0\n",
    "salRats.df.loc[salRats.df.rwd.isnull(),'rwd'] = 0\n",
    "\n",
    "cokeRats.df.loc[:,\"session\"] = cokeRats.df.loc[:,\"session\"].astype(\"int16\")\n",
    "cokeRats.df.loc[:,\"block\"] = cokeRats.df.loc[:,\"block\"].astype(\"int8\")\n",
    "cokeRats.df.loc[:,\"port\"] = cokeRats.df.loc[:,\"port\"].astype(\"int8\")\n",
    "cokeRats.df.loc[:,\"rwd\"] = cokeRats.df.loc[:,\"rwd\"].astype(\"int8\")\n",
    "salRats.df.loc[:,\"session\"] = salRats.df.loc[:,\"session\"].astype(\"int16\")\n",
    "salRats.df.loc[:,\"block\"] = salRats.df.loc[:,\"block\"].astype(\"int8\")\n",
    "salRats.df.loc[:,\"port\"] = salRats.df.loc[:,\"port\"].astype(\"int8\")\n",
    "salRats.df.loc[:,\"rwd\"] = salRats.df.loc[:,\"rwd\"].astype(\"int8\")\n",
    "\n",
    "removeErrantBlock1Assignments(salRats)\n",
    "removeErrantBlock1Assignments(cokeRats)"
   ]
  },
  {
   "cell_type": "markdown",
   "id": "6e6ce1d5-b3c0-43ad-a068-8e63299bcf45",
   "metadata": {},
   "source": [
    "# create columns indicating pre or post injection"
   ]
  },
  {
   "cell_type": "code",
   "execution_count": null,
   "id": "89f7b28e-b4af-4056-87c7-c8871e8bef41",
   "metadata": {},
   "outputs": [],
   "source": [
    "cokeRats.df.loc[:,\"post-Inj\"] = 0\n",
    "cokeRats.df.loc[:,\"pre-Inj\"] = 0\n",
    "salRats.df.loc[:,\"post-Inj\"] = 0\n",
    "salRats.df.loc[:,\"pre-Inj\"] = 0"
   ]
  },
  {
   "cell_type": "markdown",
   "id": "cf8b6e6f-4b49-485f-abe8-d72c2271560f",
   "metadata": {},
   "source": [
    "# for each rat and date in the cocaine object, input the time of injection (in minutes). This will fill in the dataframe columns, marking post-injection as 20min after, but this can be changed"
   ]
  },
  {
   "cell_type": "code",
   "execution_count": null,
   "id": "af5f569a-d90e-4390-8a43-7a62e16bef1b",
   "metadata": {},
   "outputs": [],
   "source": [
    "timeAfterInj = 15\n",
    "sessionStartExcludeTime = 10 # this deserves more discussion"
   ]
  },
  {
   "cell_type": "code",
   "execution_count": null,
   "id": "f25dff37-993a-495b-a7c1-95c54e4808c0",
   "metadata": {},
   "outputs": [],
   "source": [
    "rat = input(\"rat ID include IM-\")\n",
    "date = int(input(\"date\"))\n",
    "timeOfInj = int(input(\"time of injection? (min)\"))\n",
    "timeOfInj_sampleTime = timeOfInj*60*250\n",
    "dat = cokeRats.df.loc[(cokeRats.df.rat==rat)&(cokeRats.df.date==date),:].copy()\n",
    "startFill = dat.index.min()+timeOfInj_sampleTime+timeAfterInj*250*60\n",
    "dat.loc[startFill:,\"post-Inj\"] = 1\n",
    "dat.loc[sessionStartExcludeTime*250*60:dat.index.min()+timeOfInj_sampleTime,\"pre-Inj\"] = 1\n",
    "cokeRats.df.loc[(cokeRats.df.rat==rat)&(cokeRats.df.date==date),:] = dat"
   ]
  },
  {
   "cell_type": "markdown",
   "id": "67e088ea-5aa3-4d0c-ac41-0ebf9a59b1db",
   "metadata": {},
   "source": [
    "# do the same for saline rats. edit to add variables for time inclusion/exclusion"
   ]
  },
  {
   "cell_type": "code",
   "execution_count": null,
   "id": "0b1cd9a2-bf7e-4469-830e-67e6cbeed299",
   "metadata": {
    "tags": []
   },
   "outputs": [],
   "source": [
    "rat = input(\"rat ID include IM-\")\n",
    "date = int(input(\"date\"))\n",
    "timeOfInj = int(input(\"time of injection? (min)\"))\n",
    "timeOfInj_sampleTime = timeOfInj*60*250\n",
    "dat = salRats.df.loc[(salRats.df.rat==rat)&(salRats.df.date==date),:].copy()\n",
    "startFill = dat.index.min()+timeOfInj_sampleTime+20*250*60\n",
    "dat.loc[startFill:,\"post-Inj\"] = 1\n",
    "dat.loc[10*250*60:dat.index.min()+timeOfInj_sampleTime,\"pre-Inj\"] = 1\n",
    "salRats.df.loc[(salRats.df.rat==rat)&(salRats.df.date==date),:] = dat"
   ]
  },
  {
   "cell_type": "code",
   "execution_count": null,
   "id": "84d2a68e-2b28-494a-9afe-6909feae6854",
   "metadata": {},
   "outputs": [],
   "source": [
    "create_triframe(cokeRats)\n",
    "create_triframe(salRats)"
   ]
  },
  {
   "cell_type": "code",
   "execution_count": null,
   "id": "0adba4c0-1538-40c8-a994-5e84159cd09c",
   "metadata": {},
   "outputs": [],
   "source": [
    "def get_log_pchoos_v_costNben(photrats,postInj=True):\n",
    "    '''if postInj is true, only consider trials after injection,\n",
    "    else, consider pre-injection time points.'''\n",
    "    df = photrats.triframe.loc[photrats.triframe[\"post-Inj\"==1].copy() if postInj\\\n",
    "        else photrats.triframe.loc[photrats.triframe[\"pre-Inj\"==1].copy()\n",
    "    df['ratcodes'] = df.rat.astype('category').cat.codes\n",
    "    seshs=df.session.unique()\n",
    "    for s in range(len(seshs)):\n",
    "        sdf = df.loc[(df.session==seshs[s])].copy()\n",
    "        rdf = pd.DataFrame({'pRwdDif':photrats.get_lr_dif_val(\\\n",
    "            sdf,'nom_rwd'),'ldif':photrats.get_lr_dif_val(sdf,'dist')})\n",
    "        rdf['choose_L'] = sdf.lrchoice.values\n",
    "        rdf['session']=s\n",
    "        rdf['rat'] = sdf.ratcodes.values\n",
    "        rdf['tri'] = sdf.tri.values\n",
    "        rdf['block'] = sdf.block.values\n",
    "        rdf.loc[:,\"rt-1\"] = np.nan\n",
    "        sdf.reset_index(inplace=True)\n",
    "        for p in range(3):\n",
    "            lagInds = sdf.loc[sdf.port==p,:].index\n",
    "            rdf.loc[lagInds,\"rt-1\"] = sdf.loc[lagInds,'rwd'].shift(1).values\n",
    "        if s == 0:\n",
    "            photrats.regdf = rdf\n",
    "        else:\n",
    "            photrats.regdf = photrats.regdf.append(rdf,ignore_index=True)\n",
    "    photrats.regdf.loc[photrats.regdf.choose_L==2,'choose_L']=np.nan"
   ]
  }
 ],
 "metadata": {
  "kernelspec": {
   "display_name": "Python 3",
   "language": "python",
   "name": "python3"
  },
  "language_info": {
   "codemirror_mode": {
    "name": "ipython",
    "version": 3
   },
   "file_extension": ".py",
   "mimetype": "text/x-python",
   "name": "python",
   "nbconvert_exporter": "python",
   "pygments_lexer": "ipython3",
   "version": "3.8.8"
  }
 },
 "nbformat": 4,
 "nbformat_minor": 5
}
