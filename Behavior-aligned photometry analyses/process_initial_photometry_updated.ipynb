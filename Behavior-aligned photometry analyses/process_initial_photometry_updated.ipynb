{
 "cells": [
  {
   "cell_type": "code",
   "execution_count": null,
   "id": "d91c751b-c85a-47af-a7a3-ef33f56d1ca3",
   "metadata": {},
   "outputs": [],
   "source": [
    "import numpy as np\n",
    "import pandas as pd\n",
    "import csv\n",
    "import matplotlib.pyplot as plt\n",
    "import scipy.io\n",
    "import statsmodels.api as sm\n",
    "from sklearn.linear_model import Lasso\n",
    "from phot_funcs import *\n",
    "import ipywidgets as widgets\n",
    "from ipywidgets import interact, interactive, fixed, interact_manual\n",
    "import numpy as np\n",
    "import matplotlib.pyplot as plt\n",
    "from matplotlib.widgets import Slider\n",
    "from hex_making_utils import *\n",
    "#import fit_hex_grid\n",
    "%matplotlib qt"
   ]
  },
  {
   "cell_type": "code",
   "execution_count": null,
   "id": "50541049-e21c-4cd7-904d-b8f402cced1b",
   "metadata": {},
   "outputs": [],
   "source": [
    "animal = \"IM-\"+input('rat: ') #i.e. IM-1006\n",
    "#filepath = \"/Volumes/Tim-1/Photometry Data/\"+ animal + '/'\n",
    "#filepath = \"/Volumes/Tim/Photometry/\"+ animal + '/'\n",
    "filepath = \"/Volumes/Tim K/Photometry Data/Triangle Maze/\"+ animal + '/'\n",
    "date = input('date: ') #format: mmddyyyy\n",
    "ses_type = input('Block change = prob or barrier? ')\n",
    "analcolor = 'green'# input('color of dLight?')\n",
    "filecount = '0'# input('file suffix number: ')\n",
    "# std used for gaussian smoothing of position data. In Weill building,\n",
    "# recommend using sigma = 2\n",
    "gausSigma = 0.1\n",
    "usePosSmoothing = False\n",
    "\n",
    "import phot_to_dframes\n",
    "\n",
    "location = phot_to_dframes.location\n",
    "sampledata = phot_to_dframes.sampledata\n",
    "tridat = phot_to_dframes.tridat\n",
    "visinds = sampledata.loc[sampledata.port.notnull(),:].index\n",
    "fs = phot_to_dframes.Fs\n",
    "datepath = savepath = phot_to_dframes.datepath\n",
    "\n",
    "sampledata.loc[:,'x'] = sampledata.loc[:,'x'].interpolate()\n",
    "sampledata.loc[:,'y'] = sampledata.loc[:,'y'].interpolate()"
   ]
  },
  {
   "cell_type": "markdown",
   "id": "4023bdde-f078-4ce8-b91a-ee96e2b80978",
   "metadata": {},
   "source": [
    "# if the video has been labeled using a cropped area, make sure to adjust position to account for the offset. x += 85"
   ]
  },
  {
   "cell_type": "code",
   "execution_count": null,
   "id": "339f9eac-b774-48c1-8c1f-7f7a833f1f97",
   "metadata": {},
   "outputs": [],
   "source": [
    "sampledata.loc[:,\"x\"] = sampledata.loc[:,\"x\"].values+85"
   ]
  },
  {
   "cell_type": "markdown",
   "id": "512dc655-f24a-4d25-a2ad-2d552afbb356",
   "metadata": {},
   "source": [
    "# adjust hex map to fit the video"
   ]
  },
  {
   "cell_type": "code",
   "execution_count": null,
   "id": "faf57044-31a3-447a-87bb-724c53dcb0e0",
   "metadata": {},
   "outputs": [],
   "source": [
    "path = \"/Volumes/Tim K/Photometry Data/Triangle Maze/\"\n",
    "#path = '/Users/berkelab/Desktop/Photometry Data/Triangle Maze/'\n",
    "#path = '/Volumes/Seagate Backup Plus Drive/Data Backups/Photometry Data/Triangle Maze/'\n",
    "#original_hexbins = np.load(path+'original_hexbins.npy',allow_pickle = True)\n",
    "original_hexbins = np.load(path+'newMaze_hexbins.npy',allow_pickle = True)\n",
    "#original_ids = np.load(path+'original_ids.npy',allow_pickle = True)\n",
    "original_ids = np.load(path+'newMaze_ids.npy',allow_pickle = True)\n",
    "#original_points = np.load(path+'original_points.npy',allow_pickle = True)\n",
    "original_points = np.load(path+'new_points.npy',allow_pickle = True)\n",
    "\n",
    "#run this to draw line. Can redraw as many times as needed\n",
    "#draw circles in barriers, save to barriers. draw hexes 1,2,3,25 and save to new_points\n",
    "import imageio\n",
    "fname = datepath+'Behav_Vid'+filecount+'.avi'\n",
    "vid = imageio.get_reader(fname, 'ffmpeg')"
   ]
  },
  {
   "cell_type": "markdown",
   "id": "2cbdc6ee-5aab-4bd0-8b41-755e677dad93",
   "metadata": {},
   "source": [
    "### transform_scatter will transform the scatter plot of hexes to fit the new map. the coordinates for each transformed centroid will be stored in the \"new_coords\" variable (in order of hex ID). You can access the transform parameters in the global variable \"transformParams\""
   ]
  },
  {
   "cell_type": "code",
   "execution_count": null,
   "id": "6e159f9e-752e-4d56-8f35-6c0cc38152a5",
   "metadata": {},
   "outputs": [],
   "source": [
    "transform_scatter(np.hstack([centroids,np.ones((len(centroids),1))]),vid.get_data(1000),rotate_center=[640/2,480/2])"
   ]
  },
  {
   "cell_type": "markdown",
   "id": "4af76ffc-9e92-47dc-8cae-f9cdcf564d2d",
   "metadata": {},
   "source": [
    "### save the transform parameters for quick future access"
   ]
  },
  {
   "cell_type": "code",
   "execution_count": null,
   "id": "97f953e1-2104-4e36-b9a4-8815b9c828f9",
   "metadata": {},
   "outputs": [],
   "source": [
    "np.save(datepath,transformParams)"
   ]
  },
  {
   "cell_type": "markdown",
   "id": "f398c344-4673-4345-a00d-b3bf475790d6",
   "metadata": {},
   "source": [
    "# identify barriers\n",
    "## *be sure to click on the base of the barrier (where the overlaid hex is), not the top.*"
   ]
  },
  {
   "cell_type": "code",
   "execution_count": null,
   "id": "74c4c75c-7e1a-484a-b4cc-3f3f3d0cf916",
   "metadata": {},
   "outputs": [],
   "source": [
    "all_bars = []\n",
    "bind = 0"
   ]
  },
  {
   "cell_type": "code",
   "execution_count": null,
   "id": "17657fe7-0b49-478f-bd6e-68a33f8e68d2",
   "metadata": {},
   "outputs": [],
   "source": [
    "def onclick(event):\n",
    "    global ix, iy\n",
    "    ix, iy = event.xdata, event.ydata\n",
    "    print(\"x = %d, y = %d\" % (ix, iy))\n",
    "    bar_coords.append((ix, iy))\n",
    "print('max ind = ',len(blocks)-1)\n",
    "b = blocks[bind]\n",
    "ind = int(sampledata.loc[sampledata.block==b].index[int(phot_to_dframes.Fs*300)]/250*15) #5min into block\n",
    "fig,ax = plt.subplots(figsize=(14,10))\n",
    "ax.imshow(vid.get_data(ind), extent=[0, 640, 0, 480])\n",
    "plt.scatter(new_coords[:,0],new_coords[:,1],marker='H',color='steelblue',alpha=0.5,s=1000)\n",
    "#for h in range(len(hexmap.ids)):\n",
    "#    plt.text(hexmap.new_hexes[h].centroid.x-10,hexmap.new_hexes[h].centroid.y+10,hexmap.ids[h],\\\n",
    "#            color='whitesmoke',fontweight='demibold')\n",
    "bar_coords = []\n",
    "# connect the click event handler\n",
    "cid = fig.canvas.mpl_connect('button_press_event', onclick)\n",
    "\n",
    "# show the plot\n",
    "plt.show()"
   ]
  },
  {
   "cell_type": "code",
   "execution_count": null,
   "id": "db0a8e69-68c0-4898-93dd-22b18229fff4",
   "metadata": {},
   "outputs": [],
   "source": [
    "all_bars.append(assign_to_hexagon(np.array(bar_coords)[:,0],np.array(bar_coords)[:,1],new_coords))\n",
    "bind += 1"
   ]
  },
  {
   "cell_type": "markdown",
   "id": "baeea02a-7b8b-4b3c-b249-f7965443de9d",
   "metadata": {},
   "source": [
    "# convert position to hex ID"
   ]
  },
  {
   "cell_type": "code",
   "execution_count": null,
   "id": "984e2e25-13a2-473c-8da9-47a9fd6a9b83",
   "metadata": {},
   "outputs": [],
   "source": [
    "hexes = assign_to_hexagon(sampledata.loc[sampledata.x.notnull(),'x'],sampledata.loc[sampledata.x.notnull(),'y'],new_coords)"
   ]
  },
  {
   "cell_type": "markdown",
   "id": "0e811a0f-aef7-4fc2-945b-4127320279e6",
   "metadata": {},
   "source": [
    "## sanity check that position is getting binned in the correct hexes"
   ]
  },
  {
   "cell_type": "code",
   "execution_count": null,
   "id": "d59fc757-b36a-4dc5-bc20-664b637ba4ac",
   "metadata": {},
   "outputs": [],
   "source": [
    "def plot_pos_and_its_hex(i):\n",
    "    plt.clf()\n",
    "    plt.scatter(sampledata.loc[sampledata.x.notnull(),'x'].values[i],sampledata.loc[sampledata.x.notnull(),'y'].values[i])\n",
    "    plt.scatter(new_coords[:,0],new_coords[:,1],marker='H',color='steelblue',alpha=0.5,s=1000)\n",
    "    plt.scatter(new_coords[hexes[i]-1,0],new_coords[hexes[i]-1,1],marker='H',color='darkred',alpha=0.5,s=1000)"
   ]
  },
  {
   "cell_type": "code",
   "execution_count": null,
   "id": "0ad9809b-db7e-4348-9a5a-ecdf33b072e7",
   "metadata": {},
   "outputs": [],
   "source": [
    "plt.figure()\n",
    "interact(plot_pos_and_its_hex,i = widgets.IntSlider(\n",
    "    value=20000,\n",
    "    min=1,\n",
    "    max=len(sampledata.loc[sampledata.x.notnull(),'x']),\n",
    "    step=1,\n",
    "    description='frame #:'))"
   ]
  },
  {
   "cell_type": "code",
   "execution_count": null,
   "id": "74732964-5fad-4cb7-84e0-99a47c92a93c",
   "metadata": {},
   "outputs": [],
   "source": [
    "seshdat = Photrat(animal,date)\n",
    "seshdat.df = sampledata"
   ]
  },
  {
   "cell_type": "code",
   "execution_count": null,
   "id": "67b96963-e3b5-45d9-bd66-ec53d09a0b0c",
   "metadata": {},
   "outputs": [],
   "source": [
    "seshdat.barIDs = np.array(barrier_ids)\n",
    "#if barrier session, do for each block\n",
    "seshdat.tmats = {b:[] for b in np.arange(len(blocks))}\n",
    "if ses_type == 'barrier':\n",
    "    segments = []\n",
    "    branches = []\n",
    "    for b in range(len(blocks)):\n",
    "        hexmap.bar_ids = barrier_ids[b]\n",
    "        hexmap.bar_ids = [float(f) for f in hexmap.bar_ids]\n",
    "        mapfig = plot_hex_outline(size='lg',bars=hexmap.bar_ids)\n",
    "        mapfig.savefig(datepath+\"/hex_layout_block\"+str(blocks[b])+\".pdf\")\n",
    "        plt.title('animal: '+animal+'. Block '+str(blocks[b])+'. '+date)\n",
    "        transition_matrix = hexmap.plot_sesh_tmat(blocks[b])\n",
    "        seshdat.tmats[b] = transition_matrix\n",
    "        plt.title('animal: '+animal+'. Block '+str(blocks[b])+'. '+date)\n",
    "        plt.tight_layout()\n",
    "        np.save(datepath+\"/tmat_block_\"+str(blocks[b]),transition_matrix)\n",
    "    np.save(datepath+'/segments',segments)\n",
    "else:\n",
    "    hexmap.bar_ids = barrier_ids[0]\n",
    "    hexmap.bar_ids = [float(f) for f in hexmap.bar_ids]\n",
    "    mapfig = plot_hex_outline(size='lg',bars=hexmap.bar_ids)\n",
    "    mapfig.savefig(datepath+\"/hex_layout.pdf\")\n",
    "    plt.title('animal: '+animal+'. '+date)\n",
    "    transition_matrix = hexmap.plot_sesh_tmat()\n",
    "    seshdat.tmats[0] = transition_matrix\n",
    "    plt.title('animal: '+animal+'. '+date)\n",
    "    plt.tight_layout()\n",
    "    np.save(datepath+\"/tmat\",transition_matrix)"
   ]
  },
  {
   "cell_type": "markdown",
   "id": "3709ae08-fd6e-494a-b9be-752666e722f8",
   "metadata": {},
   "source": [
    "# mark critical choice points (where rat has option to choose one port with left choice, and a different port with right choice)"
   ]
  },
  {
   "cell_type": "code",
   "execution_count": null,
   "id": "2a2d0e98-8076-4bcb-aa09-ed8296f67097",
   "metadata": {},
   "outputs": [],
   "source": [
    "crit_cps = [[16]]\n",
    "if ses_type == 'barrier':\n",
    "    for b in range(len(blocks)):\n",
    "        np.save(datepath+\"/cps_block_\"+str(blocks[b]),crit_cps[b])\n",
    "else:\n",
    "    np.save(datepath+\"/cps\",crit_cps[0])"
   ]
  },
  {
   "cell_type": "markdown",
   "id": "7424bf80-5c24-45b3-8bbb-a9d62059327b",
   "metadata": {},
   "source": [
    "# add hexes to dataframe"
   ]
  },
  {
   "cell_type": "code",
   "execution_count": null,
   "id": "2eb3151f-2212-45a4-911b-91be1878cbc9",
   "metadata": {},
   "outputs": [],
   "source": [
    "sampledata.loc[:,'hexlabels']=-1\n",
    "sampledata.loc[sampledata.x.notnull(),'hexlabels'] = hexes"
   ]
  },
  {
   "cell_type": "markdown",
   "id": "565f539a-3677-42d9-8e7f-6b6d1cc3f5ec",
   "metadata": {},
   "source": [
    "# save final dataframe"
   ]
  },
  {
   "cell_type": "code",
   "execution_count": null,
   "id": "c9504f19-2703-41ae-b00d-e352042e3f3e",
   "metadata": {},
   "outputs": [],
   "source": [
    "sampledata.to_csv(savepath+animal+'_'+date+'_'+'h_sampleframe.csv')"
   ]
  }
 ],
 "metadata": {
  "kernelspec": {
   "display_name": "Python 3",
   "language": "python",
   "name": "python3"
  },
  "language_info": {
   "codemirror_mode": {
    "name": "ipython",
    "version": 3
   },
   "file_extension": ".py",
   "mimetype": "text/x-python",
   "name": "python",
   "nbconvert_exporter": "python",
   "pygments_lexer": "ipython3",
   "version": "3.8.8"
  }
 },
 "nbformat": 4,
 "nbformat_minor": 5
}
