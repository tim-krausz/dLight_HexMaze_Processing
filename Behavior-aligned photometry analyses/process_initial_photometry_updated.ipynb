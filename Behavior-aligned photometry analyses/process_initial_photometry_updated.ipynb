{
 "cells": [
  {
   "cell_type": "code",
   "execution_count": 1,
   "id": "22bffdbf-39f2-4ff4-af6a-aae8c57f33c1",
   "metadata": {},
   "outputs": [],
   "source": [
    "#import sys\n",
    "#sys.path.insert(0, '/Users/timkrausz/Documents/GitHub/Maze-photometry-analyses/')"
   ]
  },
  {
   "cell_type": "code",
   "execution_count": 1,
   "id": "d91c751b-c85a-47af-a7a3-ef33f56d1ca3",
   "metadata": {},
   "outputs": [],
   "source": [
    "import numpy as np\n",
    "import pandas as pd\n",
    "import csv\n",
    "import matplotlib.pyplot as plt\n",
    "import scipy.io\n",
    "import statsmodels.api as sm\n",
    "from sklearn.linear_model import Lasso\n",
    "#from phot_funcs import *\n",
    "import ipywidgets as widgets\n",
    "from ipywidgets import interact, interactive, fixed, interact_manual\n",
    "import numpy as np\n",
    "import matplotlib.pyplot as plt\n",
    "from matplotlib.widgets import Slider\n",
    "from TriFuncs import airPLS, WhittakerSmooth, get_zdFF"
   ]
  },
  {
   "cell_type": "code",
   "execution_count": 2,
   "id": "735856ff-55ad-4373-82cd-e22c2e228837",
   "metadata": {},
   "outputs": [],
   "source": [
    "\n",
    "def transform_scatter(points, image, rotate_center=(0,0)):\n",
    "    fig, ax = plt.subplots(figsize=(12,10))\n",
    "    plt.subplots_adjust(left=0.25, bottom=0.25)\n",
    "\n",
    "    ax.imshow(image, extent=[0, 640, 0, 480])\n",
    "    scatter = ax.scatter(points[:,0], points[:,1],marker='H',color='steelblue',alpha=0.5,s=1000)\n",
    "\n",
    "    axcolor = 'lightgoldenrodyellow'\n",
    "    ax_scale = plt.axes([0.25, 0.1, 0.65, 0.03], facecolor=axcolor)\n",
    "    ax_translate_x = plt.axes([0.25, 0.05, 0.65, 0.03], facecolor=axcolor)\n",
    "    ax_translate_y = plt.axes([0.25, 0.0, 0.65, 0.03], facecolor=axcolor)\n",
    "    ax_rotate = plt.axes([0.25, 0.15, 0.65, 0.03], facecolor=axcolor)\n",
    "\n",
    "    s_scale = Slider(ax_scale, 'Scale', 0.1, 1.5, valinit=1.0)\n",
    "    s_translate_x = Slider(ax_translate_x, 'Translate X', -200, 200, valinit=0)\n",
    "    s_translate_y = Slider(ax_translate_y, 'Translate Y', -200, 200, valinit=0)\n",
    "    s_rotate = Slider(ax_rotate, 'Rotate', -30, 30, valinit=0)\n",
    "\n",
    "    def update(val):\n",
    "        #clear_output()\n",
    "        scale = s_scale.val\n",
    "        translate_x = s_translate_x.val\n",
    "        translate_y = s_translate_y.val\n",
    "        rotate_deg = s_rotate.val\n",
    "\n",
    "        # Scale\n",
    "        scale_matrix = np.array([[scale, 0, 0],\n",
    "                                 [0, scale, 0],\n",
    "                                 [0, 0, 1]])\n",
    "\n",
    "        # Translate\n",
    "        translate_matrix = np.array([[1, 0, translate_x],\n",
    "                                     [0, 1, translate_y],\n",
    "                                     [0, 0, 1]])\n",
    "\n",
    "        # Rotate\n",
    "        rotate_rad = np.deg2rad(rotate_deg)\n",
    "        rotate_matrix = np.array([[np.cos(rotate_rad), -np.sin(rotate_rad), 0],\n",
    "                                  [np.sin(rotate_rad), np.cos(rotate_rad), 0],\n",
    "                                  [0, 0, 1]])\n",
    "\n",
    "        # Rotate around specified center\n",
    "        center_matrix = np.array([[1, 0, rotate_center[0]],\n",
    "                                  [0, 1, rotate_center[1]],\n",
    "                                  [0, 0, 1]])\n",
    "        center_translate_matrix = np.array([[1, 0, -rotate_center[0]],\n",
    "                                            [0, 1, -rotate_center[1]],\n",
    "                                            [0, 0, 1]])\n",
    "        rotate_around_center_matrix = center_translate_matrix.dot(rotate_matrix).dot(center_matrix)\n",
    "\n",
    "        # Transform points\n",
    "        transform_matrix = rotate_around_center_matrix.dot(scale_matrix).dot(translate_matrix)\n",
    "        transformed_points = transform_matrix.dot(points.T).T\n",
    "\n",
    "        # Update scatter plot\n",
    "        scatter.set_offsets(transformed_points[:,:2])\n",
    "        #scatter.set_color(transformed_points[:,2])\n",
    "\n",
    "        fig.canvas.draw_idle()\n",
    "        global new_coords\n",
    "        new_coords = transformed_points[:,:2]\n",
    "        global transformParams\n",
    "        print(\"rotate degree, scale, x tran, y tran = \",[rotate_deg,scale,translate_x,translate_y])\n",
    "        transformParams = [rotate_deg,scale,translate_x,translate_y]\n",
    "        #print(transformed_points)\n",
    "    s_scale.on_changed(update)\n",
    "    s_translate_x.on_changed(update)\n",
    "    s_translate_y.on_changed(update)\n",
    "    s_rotate.on_changed(update)\n",
    "\n",
    "    plt.show()\n",
    "    \n",
    "def assign_to_hexagon(x, y, centroids):\n",
    "    \"\"\"\n",
    "    Assigns each point in the given x-y coordinate vector to the closest hexagonal region of interest\n",
    "    with the specified centroids.\n",
    "    Parameters:\n",
    "        x (np.ndarray): A 1D numpy array of x-coordinates.\n",
    "        y (np.ndarray): A 1D numpy array of y-coordinates.\n",
    "        centroids (np.ndarray): A 2D numpy array of hexagonal region centroids, where each row contains\n",
    "            the x and y coordinates of the centroid of a region of interest.\n",
    "    Returns:\n",
    "        A 1D numpy array of integers, where each element is the index of the closest centroid in the\n",
    "        centroids array.\n",
    "    \"\"\"\n",
    "    # Calculate the Euclidean distance between each point and each centroid\n",
    "    distances = np.sqrt((x[:, np.newaxis] - centroids[:, 0])**2 + (y[:, np.newaxis] - centroids[:, 1])**2)\n",
    "    # Find the index of the closest centroid for each point\n",
    "    closest_centroid_indices = np.argmin(distances, axis=1) +1\n",
    "    \n",
    "    return closest_centroid_indices\n",
    "\n",
    "#compute the centroids of the initial hexagons\n",
    "hexlist = [2,47,46,45,44,43,3,\\\n",
    "49,42,41,40,39,48,\\\n",
    "38,37,36,35,34,33,\\\n",
    "32,31,30,29,28,\\\n",
    "27,26,25,24,23,\\\n",
    "22,21,20,19,\\\n",
    "18,17,16,15,\\\n",
    "14,13,12,\\\n",
    "11,10,9,\\\n",
    "8,7,\\\n",
    "6,5,\\\n",
    "4,\\\n",
    "1]\n",
    "#hexlist = np.subtract(hexlist,1) #convert to index-based states\n",
    "coords = []\n",
    "cols = [7,6,6,5,5,4,4,3,3,2,2,1,1]\n",
    "maxrows = 13\n",
    "r = 0\n",
    "x = 1\n",
    "y = 1\n",
    "startr = 1\n",
    "while r < maxrows:\n",
    "    maxcols = cols[r]\n",
    "    c = 0\n",
    "    if r%2!=0:\n",
    "        startr+=1\n",
    "    x=startr\n",
    "    while c < maxcols:\n",
    "        coords.append([x,y])\n",
    "        x += 2\n",
    "        c += 1\n",
    "    if r%2!=0:\n",
    "        y += 2\n",
    "    else:\n",
    "        y+=1\n",
    "    r += 1\n",
    "cents = {h: c for h,c in zip(hexlist,coords)}\n",
    "\n",
    "\n",
    "# define the centroids of the hexagons\n",
    "centroids = np.zeros((49,2))\n",
    "for h in list(cents.keys()):\n",
    "    centroids[h-1] = cents[h]\n",
    "\n",
    "centroids[:,0] = centroids[:,0]/centroids[:,0].max()*450 +80\n",
    "centroids[:,1] = centroids[:,1]/centroids[:,1].max()*410\n",
    "\n"
   ]
  },
  {
   "cell_type": "code",
   "execution_count": 3,
   "id": "4f600417-06ef-4cd3-be04-b45ffabce5db",
   "metadata": {},
   "outputs": [],
   "source": [
    "noPhot = True"
   ]
  },
  {
   "cell_type": "code",
   "execution_count": null,
   "id": "50541049-e21c-4cd7-904d-b8f402cced1b",
   "metadata": {
    "tags": []
   },
   "outputs": [
    {
     "name": "stdin",
     "output_type": "stream",
     "text": [
      "rat:  1372\n",
      "date:  06062021\n",
      "Block change = prob or barrier?  barrier\n",
      "recording folder name? (yyyy-mm-dd_hh-mm-ss) 2021-06-06_15-58-48\n",
      "photometry DLC? y/n n\n"
     ]
    },
    {
     "name": "stdout",
     "output_type": "stream",
     "text": [
      "pulse channel not yet extracted. Extracting now...\n"
     ]
    }
   ],
   "source": [
    "%matplotlib qt\n",
    "animal = \"IM-\"+input('rat: ') #i.e. IM-1006\n",
    "#filepath = \"/Volumes/Tim/Photometry/\"+ animal + '/'\n",
    "filepath = \"/Volumes/Tim-1/Photometry/\"+ animal + '/'\n",
    "date = input('date: ') #format: mmddyyyy\n",
    "ses_type = input('Block change = prob or barrier? ')\n",
    "analcolor = 'green'# input('color of dLight?')\n",
    "filecount = '0'# input('file suffix number: ')\n",
    "# std used for gaussian smoothing of position data. In Weill building,\n",
    "# recommend using sigma = 2\n",
    "gausSigma = 0.1\n",
    "usePosSmoothing = False\n",
    "\n",
    "if noPhot:\n",
    "    rec_folder = input(\"recording folder name? (yyyy-mm-dd_hh-mm-ss)\")\n",
    "    import phot_to_dframes_noPhot\n",
    "else:\n",
    "    import phot_to_dframes\n",
    "\n",
    "location = phot_to_dframes.location\n",
    "sampledata = phot_to_dframes.sampledata\n",
    "tridat = phot_to_dframes.tridat\n",
    "visinds = sampledata.loc[sampledata.port.notnull(),:].index\n",
    "fs = phot_to_dframes.Fs\n",
    "datepath = savepath = phot_to_dframes.datepath\n",
    "\n",
    "#sampledata.loc[:,'x'] = sampledata.loc[:,'x'].interpolate()\n",
    "#sampledata.loc[:,'y'] = sampledata.loc[:,'y'].interpolate()"
   ]
  },
  {
   "cell_type": "code",
   "execution_count": 4,
   "id": "836a845f-75d3-4d86-b467-53bc6f9bebd1",
   "metadata": {},
   "outputs": [],
   "source": [
    "i = 0"
   ]
  },
  {
   "cell_type": "code",
   "execution_count": 22,
   "id": "ffd06638-11a1-400d-ad23-f88e6ffbac58",
   "metadata": {},
   "outputs": [
    {
     "data": {
      "application/vnd.jupyter.widget-view+json": {
       "model_id": "b34bd9acb22945afbb5519925b79ac81",
       "version_major": 2,
       "version_minor": 0
      },
      "text/html": [
       "\n",
       "            <div style=\"display: inline-block;\">\n",
       "                <div class=\"jupyter-widgets widget-label\" style=\"text-align: center;\">\n",
       "                    Figure\n",
       "                </div>\n",
       "                <img src='data:image/png;base64,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' width=640.0/>\n",
       "            </div>\n",
       "        "
      ],
      "text/plain": [
       "Canvas(toolbar=Toolbar(toolitems=[('Home', 'Reset original view', 'home', 'home'), ('Back', 'Back to previous …"
      ]
     },
     "metadata": {},
     "output_type": "display_data"
    }
   ],
   "source": [
    "plt.figure()\n",
    "plt.plot(sampledata.loc[visinds[i+0]:visinds[i+1],'x'].interpolate(),sampledata.loc[visinds[i+0]:visinds[i+1],'y'].interpolate())\n",
    "plt.plot(sampledata.loc[visinds[i+1]:visinds[i+2],'x'].interpolate(),sampledata.loc[visinds[i+1]:visinds[i+2],'y'].interpolate())\n",
    "i += 1"
   ]
  },
  {
   "cell_type": "code",
   "execution_count": 23,
   "id": "53349ac5-85c3-46ce-8938-bcae6a3299ab",
   "metadata": {
    "tags": []
   },
   "outputs": [
    {
     "data": {
      "application/vnd.jupyter.widget-view+json": {
       "model_id": "1c392c4399e6474d9839f668be9786d0",
       "version_major": 2,
       "version_minor": 0
      },
      "text/html": [
       "\n",
       "            <div style=\"display: inline-block;\">\n",
       "                <div class=\"jupyter-widgets widget-label\" style=\"text-align: center;\">\n",
       "                    Figure\n",
       "                </div>\n",
       "                <img src='data:image/png;base64,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' width=640.0/>\n",
       "            </div>\n",
       "        "
      ],
      "text/plain": [
       "Canvas(toolbar=Toolbar(toolitems=[('Home', 'Reset original view', 'home', 'home'), ('Back', 'Back to previous …"
      ]
     },
     "metadata": {},
     "output_type": "display_data"
    }
   ],
   "source": [
    "plt.figure()\n",
    "plt.scatter(sampledata.loc[visinds[i+0]:visinds[i+1],'x'],sampledata.loc[visinds[i+0]:visinds[i+1],'y'])\n",
    "plt.scatter(sampledata.loc[visinds[i+1]:visinds[i+2],'x'],sampledata.loc[visinds[i+1]:visinds[i+2],'y'])\n",
    "i += 1"
   ]
  },
  {
   "cell_type": "markdown",
   "id": "4023bdde-f078-4ce8-b91a-ee96e2b80978",
   "metadata": {},
   "source": [
    "# if the video has been labeled using a cropped area, make sure to adjust position to account for the offset. x += 85"
   ]
  },
  {
   "cell_type": "code",
   "execution_count": 4,
   "id": "339f9eac-b774-48c1-8c1f-7f7a833f1f97",
   "metadata": {},
   "outputs": [],
   "source": [
    "sampledata.loc[:,\"x\"] = sampledata.loc[:,\"x\"].values+85"
   ]
  },
  {
   "cell_type": "markdown",
   "id": "ca753aae-db22-4dff-80eb-3c4e2f2a0a94",
   "metadata": {},
   "source": [
    "# flip y position values to fit with hex map"
   ]
  },
  {
   "cell_type": "code",
   "execution_count": 5,
   "id": "a804e4d8-2f3d-4973-923f-95ee0d34aef4",
   "metadata": {},
   "outputs": [],
   "source": [
    "y_pos = sampledata.y.values\n",
    "y_midpoint = 480/2\n",
    "flipped_y_values = y_midpoint + (y_midpoint - y_pos)\n",
    "sampledata.loc[:,\"y\"] = flipped_y_values"
   ]
  },
  {
   "cell_type": "code",
   "execution_count": 6,
   "id": "08854d81-d898-43c5-8c47-9e98f6c1db43",
   "metadata": {},
   "outputs": [],
   "source": [
    "%matplotlib qt"
   ]
  },
  {
   "cell_type": "markdown",
   "id": "512dc655-f24a-4d25-a2ad-2d552afbb356",
   "metadata": {},
   "source": [
    "# adjust hex map to fit the video"
   ]
  },
  {
   "cell_type": "code",
   "execution_count": 7,
   "id": "faf57044-31a3-447a-87bb-724c53dcb0e0",
   "metadata": {
    "tags": []
   },
   "outputs": [],
   "source": [
    "path = \"/Volumes/Tim K/Photometry Data/Triangle Maze/\"\n",
    "#path = '/Users/berkelab/Desktop/Photometry Data/Triangle Maze/'\n",
    "#path = '/Volumes/Seagate Backup Plus Drive/Data Backups/Photometry Data/Triangle Maze/'\n",
    "#original_hexbins = np.load(path+'original_hexbins.npy',allow_pickle = True)\n",
    "original_hexbins = np.load(path+'newMaze_hexbins.npy',allow_pickle = True)\n",
    "#original_ids = np.load(path+'original_ids.npy',allow_pickle = True)\n",
    "original_ids = np.load(path+'newMaze_ids.npy',allow_pickle = True)\n",
    "#original_points = np.load(path+'original_points.npy',allow_pickle = True)\n",
    "original_points = np.load(path+'new_points.npy',allow_pickle = True)\n",
    "\n",
    "#run this to draw line. Can redraw as many times as needed\n",
    "#draw circles in barriers, save to barriers. draw hexes 1,2,3,25 and save to new_points\n",
    "import imageio\n",
    "fname = datepath+'Behav_Vid'+filecount+'.avi'\n",
    "vid = imageio.get_reader(fname, 'ffmpeg')\n",
    "\n",
    "from fit_hex_grid import *\n",
    "hexmap = HexMap(None,None,\n",
    "                None,ses_type)"
   ]
  },
  {
   "cell_type": "markdown",
   "id": "2cbdc6ee-5aab-4bd0-8b41-755e677dad93",
   "metadata": {},
   "source": [
    "### transform_scatter will transform the scatter plot of hexes to fit the new map. the coordinates for each transformed centroid will be stored in the \"new_coords\" variable (in order of hex ID). You can access the transform parameters in the global variable \"transformParams\""
   ]
  },
  {
   "cell_type": "code",
   "execution_count": 44,
   "id": "6e159f9e-752e-4d56-8f35-6c0cc38152a5",
   "metadata": {
    "tags": []
   },
   "outputs": [],
   "source": [
    "transform_scatter(np.hstack([centroids,np.ones((len(centroids),1))]),vid.get_data(1000),rotate_center=[640/2,480/2])"
   ]
  },
  {
   "cell_type": "code",
   "execution_count": 8,
   "id": "81930246-6c2f-489a-830a-e34740ac2ff3",
   "metadata": {},
   "outputs": [
    {
     "data": {
      "text/plain": [
       "[-0.5384615384615401, 0.7676923076923075, 83.07692307692304, 89.74358974358967]"
      ]
     },
     "execution_count": 8,
     "metadata": {},
     "output_type": "execute_result"
    }
   ],
   "source": [
    "transformParams"
   ]
  },
  {
   "cell_type": "markdown",
   "id": "4af76ffc-9e92-47dc-8cae-f9cdcf564d2d",
   "metadata": {},
   "source": [
    "### save the transform parameters for quick future access"
   ]
  },
  {
   "cell_type": "code",
   "execution_count": 9,
   "id": "97f953e1-2104-4e36-b9a4-8815b9c828f9",
   "metadata": {},
   "outputs": [],
   "source": [
    "np.save(datepath+\"transformparams.npy\",transformParams)"
   ]
  },
  {
   "cell_type": "markdown",
   "id": "a5314a69-d69a-45ab-b233-7b79952baf69",
   "metadata": {},
   "source": [
    "### load transform parameters if fit has already been established and saved"
   ]
  },
  {
   "cell_type": "code",
   "execution_count": 8,
   "id": "890a30d3-9929-4c4c-9ea0-d2c8e57015af",
   "metadata": {},
   "outputs": [],
   "source": [
    "[rotate_deg,scale,translate_x,translate_y] = np.load(\"/Volumes/Tim/Photometry/IM-1594/07252023/transformparams.npy\")"
   ]
  },
  {
   "cell_type": "code",
   "execution_count": 9,
   "id": "86ad21a6-c20d-4289-8345-f6977fabf267",
   "metadata": {},
   "outputs": [],
   "source": [
    "points = np.hstack([centroids,np.ones((len(centroids),1))])\n",
    "\n",
    "rotate_center=[640/2,480/2]\n",
    "# Scale\n",
    "scale_matrix = np.array([[scale, 0, 0],\n",
    "                         [0, scale, 0],\n",
    "                         [0, 0, 1]])\n",
    "\n",
    "# Translate\n",
    "translate_matrix = np.array([[1, 0, translate_x],\n",
    "                             [0, 1, translate_y],\n",
    "                             [0, 0, 1]])\n",
    "\n",
    "# Rotate\n",
    "rotate_rad = np.deg2rad(rotate_deg)\n",
    "rotate_matrix = np.array([[np.cos(rotate_rad), -np.sin(rotate_rad), 0],\n",
    "                          [np.sin(rotate_rad), np.cos(rotate_rad), 0],\n",
    "                          [0, 0, 1]])\n",
    "\n",
    "# Rotate around specified center\n",
    "center_matrix = np.array([[1, 0, rotate_center[0]],\n",
    "                          [0, 1, rotate_center[1]],\n",
    "                          [0, 0, 1]])\n",
    "center_translate_matrix = np.array([[1, 0, -rotate_center[0]],\n",
    "                                    [0, 1, -rotate_center[1]],\n",
    "                                    [0, 0, 1]])\n",
    "rotate_around_center_matrix = center_translate_matrix.dot(rotate_matrix).dot(center_matrix)\n",
    "\n",
    "# Transform points\n",
    "transform_matrix = rotate_around_center_matrix.dot(scale_matrix).dot(translate_matrix)\n",
    "transformed_points = transform_matrix.dot(points.T).T\n",
    "\n",
    "new_coords = transformed_points[:,:2]"
   ]
  },
  {
   "cell_type": "markdown",
   "id": "f398c344-4673-4345-a00d-b3bf475790d6",
   "metadata": {},
   "source": [
    "# identify barriers\n",
    "## *be sure to click on the base of the barrier (where the overlaid hex is), not the top.*"
   ]
  },
  {
   "cell_type": "code",
   "execution_count": 10,
   "id": "74c4c75c-7e1a-484a-b4cc-3f3f3d0cf916",
   "metadata": {},
   "outputs": [],
   "source": [
    "all_bars = []\n",
    "bind = 0"
   ]
  },
  {
   "cell_type": "code",
   "execution_count": 11,
   "id": "5ca85856-48db-4e92-8315-34865a131512",
   "metadata": {},
   "outputs": [],
   "source": [
    "blocks = sampledata.block.unique()"
   ]
  },
  {
   "cell_type": "code",
   "execution_count": 16,
   "id": "17657fe7-0b49-478f-bd6e-68a33f8e68d2",
   "metadata": {},
   "outputs": [
    {
     "name": "stdout",
     "output_type": "stream",
     "text": [
      "max ind =  2\n"
     ]
    }
   ],
   "source": [
    "def onclick(event):\n",
    "    global ix, iy\n",
    "    ix, iy = event.xdata, event.ydata\n",
    "    print(\"x = %d, y = %d\" % (ix, iy))\n",
    "    bar_coords.append((ix, iy))\n",
    "print('max ind = ',len(blocks)-1)\n",
    "b = blocks[bind]\n",
    "ind = int(sampledata.loc[sampledata.block==b].index[int(phot_to_dframes.Fs*300)]/250*15) #5min into block\n",
    "fig,ax = plt.subplots(figsize=(14,10))\n",
    "ax.imshow(vid.get_data(ind), extent=[0, 640, 0, 480])\n",
    "plt.scatter(new_coords[:,0],new_coords[:,1],marker='H',color='steelblue',alpha=0.5,s=1000)\n",
    "#for h in range(len(hexmap.ids)):\n",
    "#    plt.text(hexmap.new_hexes[h].centroid.x-10,hexmap.new_hexes[h].centroid.y+10,hexmap.ids[h],\\\n",
    "#            color='whitesmoke',fontweight='demibold')\n",
    "bar_coords = []\n",
    "# connect the click event handler\n",
    "cid = fig.canvas.mpl_connect('button_press_event', onclick)\n",
    "\n",
    "# show the plot\n",
    "plt.show()"
   ]
  },
  {
   "cell_type": "code",
   "execution_count": 17,
   "id": "db0a8e69-68c0-4898-93dd-22b18229fff4",
   "metadata": {},
   "outputs": [],
   "source": [
    "all_bars.append(assign_to_hexagon(np.array(bar_coords)[:,0],np.array(bar_coords)[:,1],new_coords))\n",
    "bind += 1"
   ]
  },
  {
   "cell_type": "markdown",
   "id": "baeea02a-7b8b-4b3c-b249-f7965443de9d",
   "metadata": {},
   "source": [
    "# convert position to hex ID"
   ]
  },
  {
   "cell_type": "code",
   "execution_count": 18,
   "id": "984e2e25-13a2-473c-8da9-47a9fd6a9b83",
   "metadata": {},
   "outputs": [
    {
     "name": "stderr",
     "output_type": "stream",
     "text": [
      "<ipython-input-2-c3d0fabc7fb2>:87: FutureWarning: Support for multi-dimensional indexing (e.g. `obj[:, None]`) is deprecated and will be removed in a future version.  Convert to a numpy array before indexing instead.\n",
      "  distances = np.sqrt((x[:, np.newaxis] - centroids[:, 0])**2 + (y[:, np.newaxis] - centroids[:, 1])**2)\n"
     ]
    }
   ],
   "source": [
    "hexes = assign_to_hexagon(sampledata.loc[sampledata.x.notnull(),'x'],sampledata.loc[sampledata.x.notnull(),'y'],new_coords)"
   ]
  },
  {
   "cell_type": "markdown",
   "id": "0e811a0f-aef7-4fc2-945b-4127320279e6",
   "metadata": {},
   "source": [
    "## sanity check that position is getting binned in the correct hexes"
   ]
  },
  {
   "cell_type": "code",
   "execution_count": 19,
   "id": "2adcdd07-0628-4684-a384-e9e2c3d33817",
   "metadata": {},
   "outputs": [
    {
     "data": {
      "text/plain": [
       "<matplotlib.collections.PathCollection at 0x7f78418a06d0>"
      ]
     },
     "execution_count": 19,
     "metadata": {},
     "output_type": "execute_result"
    }
   ],
   "source": [
    "plt.figure()\n",
    "plt.scatter(sampledata.loc[sampledata.x.notnull(),'x'].values,sampledata.loc[sampledata.x.notnull(),'y'].values,color='darkred')\n",
    "plt.scatter(new_coords[:,0],new_coords[:,1],marker='H',color='steelblue',alpha=0.5,s=1000)"
   ]
  },
  {
   "cell_type": "code",
   "execution_count": 42,
   "id": "d59fc757-b36a-4dc5-bc20-664b637ba4ac",
   "metadata": {},
   "outputs": [],
   "source": [
    "def plot_pos_and_its_hex(i):\n",
    "    plt.clf()\n",
    "    plt.scatter(sampledata.loc[sampledata.x.notnull(),'x'].values[i],sampledata.loc[sampledata.x.notnull(),'y'].values[i])\n",
    "    plt.scatter(new_coords[:,0],new_coords[:,1],marker='H',color='steelblue',alpha=0.5,s=1000)\n",
    "    plt.scatter(new_coords[hexes[i]-1,0],new_coords[hexes[i]-1,1],marker='H',color='darkred',alpha=0.5,s=1000)"
   ]
  },
  {
   "cell_type": "code",
   "execution_count": 43,
   "id": "0ad9809b-db7e-4348-9a5a-ecdf33b072e7",
   "metadata": {},
   "outputs": [
    {
     "data": {
      "application/vnd.jupyter.widget-view+json": {
       "model_id": "b06eee9b1a9249678faec5998d51998f",
       "version_major": 2,
       "version_minor": 0
      },
      "text/plain": [
       "interactive(children=(IntSlider(value=20000, description='frame #:', max=82251, min=1), Output()), _dom_classe…"
      ]
     },
     "metadata": {},
     "output_type": "display_data"
    },
    {
     "data": {
      "text/plain": [
       "<function __main__.plot_pos_and_its_hex(i)>"
      ]
     },
     "execution_count": 43,
     "metadata": {},
     "output_type": "execute_result"
    }
   ],
   "source": [
    "plt.figure()\n",
    "interact(plot_pos_and_its_hex,i = widgets.IntSlider(\n",
    "    value=20000,\n",
    "    min=1,\n",
    "    max=len(sampledata.loc[sampledata.x.notnull(),'x']),\n",
    "    step=1,\n",
    "    description='frame #:'))"
   ]
  },
  {
   "cell_type": "code",
   "execution_count": null,
   "id": "74732964-5fad-4cb7-84e0-99a47c92a93c",
   "metadata": {},
   "outputs": [],
   "source": [
    "#seshdat = Photrat(animal,date)\n",
    "#seshdat.df = sampledata"
   ]
  },
  {
   "cell_type": "code",
   "execution_count": 23,
   "id": "548b2f08-ac79-4021-bbfd-1b75733e534b",
   "metadata": {},
   "outputs": [
    {
     "data": {
      "text/plain": [
       "[array([ 7, 14, 19, 25, 30, 37, 36, 39, 45]),\n",
       " array([ 7, 14, 22, 19, 25, 30, 37, 39, 45]),\n",
       " array([ 7, 14, 19, 20, 22, 25, 30, 37, 39])]"
      ]
     },
     "execution_count": 23,
     "metadata": {},
     "output_type": "execute_result"
    }
   ],
   "source": [
    "all_bars"
   ]
  },
  {
   "cell_type": "code",
   "execution_count": 26,
   "id": "6376abbd-ce4f-43af-8dd0-5cc2bc7de502",
   "metadata": {},
   "outputs": [],
   "source": [
    "all_bars[2] = np.array([7, 14, 19, 20, 22, 25, 30, 37, 39,18])"
   ]
  },
  {
   "cell_type": "code",
   "execution_count": 27,
   "id": "67b96963-e3b5-45d9-bd66-ec53d09a0b0c",
   "metadata": {},
   "outputs": [],
   "source": [
    "#seshdat.barIDs = np.array(barrier_ids)\n",
    "#if barrier session, do for each block\n",
    "#seshdat.tmats = {b:[] for b in np.arange(len(blocks))}\n",
    "if ses_type == 'barrier':\n",
    "    segments = []\n",
    "    branches = []\n",
    "    for b in range(len(blocks)):\n",
    "        hexmap.bar_ids = all_bars[b]\n",
    "        hexmap.bar_ids = [float(f) for f in hexmap.bar_ids]\n",
    "        mapfig = plot_hex_outline(size='lg',bars=hexmap.bar_ids)\n",
    "        mapfig.savefig(datepath+\"/hex_layout_block\"+str(blocks[b])+\".pdf\")\n",
    "        plt.title('animal: '+animal+'. Block '+str(blocks[b])+'. '+date)\n",
    "        transition_matrix = hexmap.plot_sesh_tmat(blocks[b])\n",
    "        #seshdat.tmats[b] = transition_matrix\n",
    "        plt.title('animal: '+animal+'. Block '+str(blocks[b])+'. '+date)\n",
    "        plt.tight_layout()\n",
    "        np.save(datepath+\"/tmat_block_\"+str(blocks[b]),transition_matrix)\n",
    "    np.save(datepath+'/segments',segments)\n",
    "else:\n",
    "    hexmap.bar_ids = all_bars[0]\n",
    "    hexmap.bar_ids = [float(f) for f in hexmap.bar_ids]\n",
    "    mapfig = plot_hex_outline(size='lg',bars=hexmap.bar_ids)\n",
    "    mapfig.savefig(datepath+\"/hex_layout.pdf\")\n",
    "    plt.title('animal: '+animal+'. '+date)\n",
    "    transition_matrix = hexmap.plot_sesh_tmat()\n",
    "    #seshdat.tmats[0] = transition_matrix\n",
    "    plt.title('animal: '+animal+'. '+date)\n",
    "    plt.tight_layout()\n",
    "    np.save(datepath+\"/tmat\",transition_matrix)"
   ]
  },
  {
   "cell_type": "markdown",
   "id": "3709ae08-fd6e-494a-b9be-752666e722f8",
   "metadata": {},
   "source": [
    "# mark critical choice points (where rat has option to choose one port with left choice, and a different port with right choice)"
   ]
  },
  {
   "cell_type": "code",
   "execution_count": 28,
   "id": "2a2d0e98-8076-4bcb-aa09-ed8296f67097",
   "metadata": {},
   "outputs": [],
   "source": [
    "crit_cps = [[13],[13],[41]]\n",
    "if ses_type == 'barrier':\n",
    "    for b in range(len(blocks)):\n",
    "        np.save(datepath+\"/cps_block_\"+str(blocks[b]),crit_cps[b])\n",
    "else:\n",
    "    np.save(datepath+\"/cps\",crit_cps[0])"
   ]
  },
  {
   "cell_type": "markdown",
   "id": "7424bf80-5c24-45b3-8bbb-a9d62059327b",
   "metadata": {},
   "source": [
    "# add hexes to dataframe"
   ]
  },
  {
   "cell_type": "code",
   "execution_count": 29,
   "id": "2eb3151f-2212-45a4-911b-91be1878cbc9",
   "metadata": {},
   "outputs": [],
   "source": [
    "sampledata.loc[:,'hexlabels'] =- 1\n",
    "sampledata.loc[sampledata.x.notnull(),'hexlabels'] = hexes\n",
    "sampledata.loc[:,'hexlabels'] = sampledata.loc[:,'hexlabels'].replace(-1,method='ffill')"
   ]
  },
  {
   "cell_type": "markdown",
   "id": "565f539a-3677-42d9-8e7f-6b6d1cc3f5ec",
   "metadata": {},
   "source": [
    "# save final dataframe"
   ]
  },
  {
   "cell_type": "code",
   "execution_count": 30,
   "id": "c9504f19-2703-41ae-b00d-e352042e3f3e",
   "metadata": {},
   "outputs": [],
   "source": [
    "sampledata.to_csv(savepath+animal+'_'+date+'_'+'h_sampleframe.csv')"
   ]
  },
  {
   "cell_type": "markdown",
   "id": "ca9e9d7a-948b-45e5-934f-95f4179ba7e7",
   "metadata": {},
   "source": [
    "## check and save reward response of DA"
   ]
  },
  {
   "cell_type": "code",
   "execution_count": 31,
   "id": "20fc8da7-9d9f-4c8f-9731-de2c151e8180",
   "metadata": {},
   "outputs": [],
   "source": [
    "rwd_traces = []\n",
    "om_traces = []\n",
    "xvals = np.arange(-5*250,5*250+1)/250\n",
    "for i in visinds:\n",
    "    if sampledata.loc[i,'rwd']==1:\n",
    "        rwd_traces.append(sampledata.loc[i-250*5:i+250*5,\"green_z_scored\"].values)\n",
    "    else:\n",
    "        trace = sampledata.loc[i-250*5:i+250*5,\"green_z_scored\"].values\n",
    "        if len(trace)==len(xvals):\n",
    "            om_traces.append(trace)\n",
    "fig = plt.figure()\n",
    "plt.plot(xvals,np.mean(rwd_traces,axis=0),color='firebrick',alpha=0.8)\n",
    "plt.plot(xvals,np.mean(om_traces,axis=0),color='blue',alpha=0.8)\n",
    "plt.axvline(x=0,ls='--',color='k')\n",
    "plt.xlabel(\"time from port entry (s)\",fontsize='xx-large')\n",
    "plt.ylabel(\"DA (z-scored)\",fontsize='xx-large')\n",
    "plt.tight_layout()\n",
    "fig.savefig(datepath+\"meanRwdOmRespone.pdf\")"
   ]
  },
  {
   "cell_type": "code",
   "execution_count": null,
   "id": "2163105a-e538-450f-8e7f-209901522c60",
   "metadata": {},
   "outputs": [],
   "source": []
  }
 ],
 "metadata": {
  "kernelspec": {
   "display_name": "Python 3",
   "language": "python",
   "name": "python3"
  },
  "language_info": {
   "codemirror_mode": {
    "name": "ipython",
    "version": 3
   },
   "file_extension": ".py",
   "mimetype": "text/x-python",
   "name": "python",
   "nbconvert_exporter": "python",
   "pygments_lexer": "ipython3",
   "version": "3.8.8"
  }
 },
 "nbformat": 4,
 "nbformat_minor": 5
}
