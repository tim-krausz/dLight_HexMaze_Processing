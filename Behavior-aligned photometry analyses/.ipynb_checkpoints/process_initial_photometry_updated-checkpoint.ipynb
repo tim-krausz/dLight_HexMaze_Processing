{
 "cells": [
  {
   "cell_type": "code",
   "execution_count": 1,
   "id": "22bffdbf-39f2-4ff4-af6a-aae8c57f33c1",
   "metadata": {},
   "outputs": [],
   "source": [
    "#import sys\n",
    "#sys.path.insert(0, '/Users/timkrausz/Documents/GitHub/Maze-photometry-analyses/')"
   ]
  },
  {
   "cell_type": "code",
   "execution_count": 1,
   "id": "d91c751b-c85a-47af-a7a3-ef33f56d1ca3",
   "metadata": {},
   "outputs": [],
   "source": [
    "import numpy as np\n",
    "import pandas as pd\n",
    "import csv\n",
    "import matplotlib.pyplot as plt\n",
    "import scipy.io\n",
    "import statsmodels.api as sm\n",
    "from sklearn.linear_model import Lasso\n",
    "#from phot_funcs import *\n",
    "import ipywidgets as widgets\n",
    "from ipywidgets import interact, interactive, fixed, interact_manual\n",
    "import numpy as np\n",
    "import matplotlib.pyplot as plt\n",
    "from matplotlib.widgets import Slider\n",
    "from TriFuncs import airPLS, WhittakerSmooth, get_zdFF"
   ]
  },
  {
   "cell_type": "code",
   "execution_count": 2,
   "id": "735856ff-55ad-4373-82cd-e22c2e228837",
   "metadata": {},
   "outputs": [],
   "source": [
    "\n",
    "def transform_scatter(points, image, rotate_center=(0,0)):\n",
    "    fig, ax = plt.subplots(figsize=(12,10))\n",
    "    plt.subplots_adjust(left=0.25, bottom=0.25)\n",
    "\n",
    "    ax.imshow(image, extent=[0, 640, 0, 480])\n",
    "    scatter = ax.scatter(points[:,0], points[:,1],marker='H',color='steelblue',alpha=0.5,s=1000)\n",
    "\n",
    "    axcolor = 'lightgoldenrodyellow'\n",
    "    ax_scale = plt.axes([0.25, 0.1, 0.65, 0.03], facecolor=axcolor)\n",
    "    ax_translate_x = plt.axes([0.25, 0.05, 0.65, 0.03], facecolor=axcolor)\n",
    "    ax_translate_y = plt.axes([0.25, 0.0, 0.65, 0.03], facecolor=axcolor)\n",
    "    ax_rotate = plt.axes([0.25, 0.15, 0.65, 0.03], facecolor=axcolor)\n",
    "\n",
    "    s_scale = Slider(ax_scale, 'Scale', 0.1, 1.5, valinit=1.0)\n",
    "    s_translate_x = Slider(ax_translate_x, 'Translate X', -200, 200, valinit=0)\n",
    "    s_translate_y = Slider(ax_translate_y, 'Translate Y', -200, 200, valinit=0)\n",
    "    s_rotate = Slider(ax_rotate, 'Rotate', -30, 30, valinit=0)\n",
    "\n",
    "    def update(val):\n",
    "        #clear_output()\n",
    "        scale = s_scale.val\n",
    "        translate_x = s_translate_x.val\n",
    "        translate_y = s_translate_y.val\n",
    "        rotate_deg = s_rotate.val\n",
    "\n",
    "        # Scale\n",
    "        scale_matrix = np.array([[scale, 0, 0],\n",
    "                                 [0, scale, 0],\n",
    "                                 [0, 0, 1]])\n",
    "\n",
    "        # Translate\n",
    "        translate_matrix = np.array([[1, 0, translate_x],\n",
    "                                     [0, 1, translate_y],\n",
    "                                     [0, 0, 1]])\n",
    "\n",
    "        # Rotate\n",
    "        rotate_rad = np.deg2rad(rotate_deg)\n",
    "        rotate_matrix = np.array([[np.cos(rotate_rad), -np.sin(rotate_rad), 0],\n",
    "                                  [np.sin(rotate_rad), np.cos(rotate_rad), 0],\n",
    "                                  [0, 0, 1]])\n",
    "\n",
    "        # Rotate around specified center\n",
    "        center_matrix = np.array([[1, 0, rotate_center[0]],\n",
    "                                  [0, 1, rotate_center[1]],\n",
    "                                  [0, 0, 1]])\n",
    "        center_translate_matrix = np.array([[1, 0, -rotate_center[0]],\n",
    "                                            [0, 1, -rotate_center[1]],\n",
    "                                            [0, 0, 1]])\n",
    "        rotate_around_center_matrix = center_translate_matrix.dot(rotate_matrix).dot(center_matrix)\n",
    "\n",
    "        # Transform points\n",
    "        transform_matrix = rotate_around_center_matrix.dot(scale_matrix).dot(translate_matrix)\n",
    "        transformed_points = transform_matrix.dot(points.T).T\n",
    "\n",
    "        # Update scatter plot\n",
    "        scatter.set_offsets(transformed_points[:,:2])\n",
    "        #scatter.set_color(transformed_points[:,2])\n",
    "\n",
    "        fig.canvas.draw_idle()\n",
    "        global new_coords\n",
    "        new_coords = transformed_points[:,:2]\n",
    "        global transformParams\n",
    "        print(\"rotate degree, scale, x tran, y tran = \",[rotate_deg,scale,translate_x,translate_y])\n",
    "        transformParams = [rotate_deg,scale,translate_x,translate_y]\n",
    "        #print(transformed_points)\n",
    "    s_scale.on_changed(update)\n",
    "    s_translate_x.on_changed(update)\n",
    "    s_translate_y.on_changed(update)\n",
    "    s_rotate.on_changed(update)\n",
    "\n",
    "    plt.show()\n",
    "    \n",
    "def assign_to_hexagon(x, y, centroids):\n",
    "    \"\"\"\n",
    "    Assigns each point in the given x-y coordinate vector to the closest hexagonal region of interest\n",
    "    with the specified centroids.\n",
    "    Parameters:\n",
    "        x (np.ndarray): A 1D numpy array of x-coordinates.\n",
    "        y (np.ndarray): A 1D numpy array of y-coordinates.\n",
    "        centroids (np.ndarray): A 2D numpy array of hexagonal region centroids, where each row contains\n",
    "            the x and y coordinates of the centroid of a region of interest.\n",
    "    Returns:\n",
    "        A 1D numpy array of integers, where each element is the index of the closest centroid in the\n",
    "        centroids array.\n",
    "    \"\"\"\n",
    "    # Calculate the Euclidean distance between each point and each centroid\n",
    "    distances = np.sqrt((x[:, np.newaxis] - centroids[:, 0])**2 + (y[:, np.newaxis] - centroids[:, 1])**2)\n",
    "    # Find the index of the closest centroid for each point\n",
    "    closest_centroid_indices = np.argmin(distances, axis=1) +1\n",
    "    \n",
    "    return closest_centroid_indices\n",
    "\n",
    "#compute the centroids of the initial hexagons\n",
    "hexlist = [2,47,46,45,44,43,3,\\\n",
    "49,42,41,40,39,48,\\\n",
    "38,37,36,35,34,33,\\\n",
    "32,31,30,29,28,\\\n",
    "27,26,25,24,23,\\\n",
    "22,21,20,19,\\\n",
    "18,17,16,15,\\\n",
    "14,13,12,\\\n",
    "11,10,9,\\\n",
    "8,7,\\\n",
    "6,5,\\\n",
    "4,\\\n",
    "1]\n",
    "#hexlist = np.subtract(hexlist,1) #convert to index-based states\n",
    "coords = []\n",
    "cols = [7,6,6,5,5,4,4,3,3,2,2,1,1]\n",
    "maxrows = 13\n",
    "r = 0\n",
    "x = 1\n",
    "y = 1\n",
    "startr = 1\n",
    "while r < maxrows:\n",
    "    maxcols = cols[r]\n",
    "    c = 0\n",
    "    if r%2!=0:\n",
    "        startr+=1\n",
    "    x=startr\n",
    "    while c < maxcols:\n",
    "        coords.append([x,y])\n",
    "        x += 2\n",
    "        c += 1\n",
    "    if r%2!=0:\n",
    "        y += 2\n",
    "    else:\n",
    "        y+=1\n",
    "    r += 1\n",
    "cents = {h: c for h,c in zip(hexlist,coords)}\n",
    "\n",
    "\n",
    "# define the centroids of the hexagons\n",
    "centroids = np.zeros((49,2))\n",
    "for h in list(cents.keys()):\n",
    "    centroids[h-1] = cents[h]\n",
    "\n",
    "centroids[:,0] = centroids[:,0]/centroids[:,0].max()*450 +80\n",
    "centroids[:,1] = centroids[:,1]/centroids[:,1].max()*410\n",
    "\n"
   ]
  },
  {
   "cell_type": "code",
   "execution_count": 3,
   "id": "4f600417-06ef-4cd3-be04-b45ffabce5db",
   "metadata": {},
   "outputs": [],
   "source": [
    "noPhot = True"
   ]
  },
  {
   "cell_type": "code",
   "execution_count": 7,
   "id": "50541049-e21c-4cd7-904d-b8f402cced1b",
   "metadata": {
    "tags": []
   },
   "outputs": [],
   "source": [
    "%matplotlib qt\n",
    "animal = \"IM-\"+input('rat: ') #i.e. IM-1006\n",
    "#filepath = \"/Volumes/Tim/Photometry/\"+ animal + '/'\n",
    "filepath = \"/Volumes/Tim-1/Photometry/\"+ animal + '/'\n",
    "date = input('date: ') #format: mmddyyyy\n",
    "ses_type = input('Block change = prob or barrier? ')\n",
    "analcolor = 'green'# input('color of dLight?')\n",
    "filecount = '0'# input('file suffix number: ')\n",
    "# std used for gaussian smoothing of position data. In Weill building,\n",
    "# recommend using sigma = 2\n",
    "gausSigma = 0.1\n",
    "usePosSmoothing = False\n",
    "\n",
    "if noPhot:\n",
    "    rec_folder = input(\"recording folder name? (yyyy-mm-dd_hh-mm-ss)\")\n",
    "    import phot_to_dframes_noPhot\n",
    "    phot_to_dframes = phot_to_dframes_noPhot\n",
    "    location = \"None\"\n",
    "else:\n",
    "    import phot_to_dframes\n",
    "    location = phot_to_dframes.location\n",
    "\n",
    "sampledata = phot_to_dframes.sampledata\n",
    "tridat = phot_to_dframes.tridat\n",
    "visinds = sampledata.loc[sampledata.port.notnull(),:].index\n",
    "fs = phot_to_dframes.Fs\n",
    "datepath = savepath = phot_to_dframes.datepath"
   ]
  },
  {
   "cell_type": "code",
   "execution_count": 8,
   "id": "836a845f-75d3-4d86-b467-53bc6f9bebd1",
   "metadata": {},
   "outputs": [],
   "source": [
    "i = 0"
   ]
  },
  {
   "cell_type": "code",
   "execution_count": 25,
   "id": "ffd06638-11a1-400d-ad23-f88e6ffbac58",
   "metadata": {},
   "outputs": [
    {
     "data": {
      "application/vnd.jupyter.widget-view+json": {
       "model_id": "ee2e4c47b0d641cfa9bea0567d1b2b99",
       "version_major": 2,
       "version_minor": 0
      },
      "text/html": [
       "\n",
       "            <div style=\"display: inline-block;\">\n",
       "                <div class=\"jupyter-widgets widget-label\" style=\"text-align: center;\">\n",
       "                    Figure\n",
       "                </div>\n",
       "                <img src='data:image/png;base64,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' width=640.0/>\n",
       "            </div>\n",
       "        "
      ],
      "text/plain": [
       "Canvas(toolbar=Toolbar(toolitems=[('Home', 'Reset original view', 'home', 'home'), ('Back', 'Back to previous …"
      ]
     },
     "metadata": {},
     "output_type": "display_data"
    }
   ],
   "source": [
    "plt.figure()\n",
    "plt.plot(sampledata.loc[visinds[i+0]:visinds[i+1],'x'].interpolate(),sampledata.loc[visinds[i+0]:visinds[i+1],'y'].interpolate())\n",
    "plt.plot(sampledata.loc[visinds[i+1]:visinds[i+2],'x'].interpolate(),sampledata.loc[visinds[i+1]:visinds[i+2],'y'].interpolate())\n",
    "i += 1"
   ]
  },
  {
   "cell_type": "markdown",
   "id": "867cef4e-8902-4678-bb51-5df979713cd3",
   "metadata": {},
   "source": [
    "# if there is an aberrant point in the maze, where DLC labeled the rat every time the cap was obscured, you can nan that out here by specifying the ranges. \n",
    "## *Note: this must be done before interpolating between missing position values*"
   ]
  },
  {
   "cell_type": "code",
   "execution_count": 21,
   "id": "177cd0ee-39b1-4f02-a23d-4cf538804247",
   "metadata": {},
   "outputs": [],
   "source": [
    "xBadRange = [520,535]\n",
    "yBadRange = [440,454]\n",
    "sampledata.loc[(sampledata.x>xBadRange[0])&(sampledata.x<xBadRange[1])\\\n",
    "              &(sampledata.y>yBadRange[0])&(sampledata.y<yBadRange[1]),['x','y']]=np.nan"
   ]
  },
  {
   "cell_type": "code",
   "execution_count": 26,
   "id": "53349ac5-85c3-46ce-8938-bcae6a3299ab",
   "metadata": {
    "tags": []
   },
   "outputs": [
    {
     "name": "stderr",
     "output_type": "stream",
     "text": [
      "<ipython-input-26-7209f1745f45>:1: RuntimeWarning: More than 20 figures have been opened. Figures created through the pyplot interface (`matplotlib.pyplot.figure`) are retained until explicitly closed and may consume too much memory. (To control this warning, see the rcParam `figure.max_open_warning`).\n",
      "  plt.figure()\n"
     ]
    },
    {
     "data": {
      "application/vnd.jupyter.widget-view+json": {
       "model_id": "a58e4296c131401eade20255216b9a05",
       "version_major": 2,
       "version_minor": 0
      },
      "text/html": [
       "\n",
       "            <div style=\"display: inline-block;\">\n",
       "                <div class=\"jupyter-widgets widget-label\" style=\"text-align: center;\">\n",
       "                    Figure\n",
       "                </div>\n",
       "                <img src='data:image/png;base64,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' width=640.0/>\n",
       "            </div>\n",
       "        "
      ],
      "text/plain": [
       "Canvas(toolbar=Toolbar(toolitems=[('Home', 'Reset original view', 'home', 'home'), ('Back', 'Back to previous …"
      ]
     },
     "metadata": {},
     "output_type": "display_data"
    }
   ],
   "source": [
    "plt.figure()\n",
    "plt.scatter(sampledata.loc[visinds[i+0]:visinds[i+1],'x'],sampledata.loc[visinds[i+0]:visinds[i+1],'y'])\n",
    "plt.scatter(sampledata.loc[visinds[i+1]:visinds[i+2],'x'],sampledata.loc[visinds[i+1]:visinds[i+2],'y'])\n",
    "i += 1"
   ]
  },
  {
   "cell_type": "markdown",
   "id": "4023bdde-f078-4ce8-b91a-ee96e2b80978",
   "metadata": {},
   "source": [
    "# if the video has been labeled using a cropped area, make sure to adjust position to account for the offset. x += 85"
   ]
  },
  {
   "cell_type": "code",
   "execution_count": 4,
   "id": "339f9eac-b774-48c1-8c1f-7f7a833f1f97",
   "metadata": {},
   "outputs": [],
   "source": [
    "sampledata.loc[:,\"x\"] = sampledata.loc[:,\"x\"].values+85"
   ]
  },
  {
   "cell_type": "markdown",
   "id": "ca753aae-db22-4dff-80eb-3c4e2f2a0a94",
   "metadata": {},
   "source": [
    "# flip y position values to fit with hex map"
   ]
  },
  {
   "cell_type": "code",
   "execution_count": 27,
   "id": "a804e4d8-2f3d-4973-923f-95ee0d34aef4",
   "metadata": {},
   "outputs": [],
   "source": [
    "y_pos = sampledata.y.values\n",
    "y_midpoint = 480/2\n",
    "flipped_y_values = y_midpoint + (y_midpoint - y_pos)\n",
    "sampledata.loc[:,\"y\"] = flipped_y_values"
   ]
  },
  {
   "cell_type": "code",
   "execution_count": 28,
   "id": "08854d81-d898-43c5-8c47-9e98f6c1db43",
   "metadata": {},
   "outputs": [],
   "source": [
    "%matplotlib qt"
   ]
  },
  {
   "cell_type": "markdown",
   "id": "512dc655-f24a-4d25-a2ad-2d552afbb356",
   "metadata": {},
   "source": [
    "# adjust hex map to fit the video"
   ]
  },
  {
   "cell_type": "code",
   "execution_count": 29,
   "id": "faf57044-31a3-447a-87bb-724c53dcb0e0",
   "metadata": {
    "tags": []
   },
   "outputs": [],
   "source": [
    "import imageio\n",
    "fname = datepath+'Behav_Vid'+filecount+'.avi'\n",
    "vid = imageio.get_reader(fname, 'ffmpeg')\n",
    "\n",
    "from fit_hex_grid import *\n",
    "hexmap = HexMap(None,None,\n",
    "                None,ses_type)"
   ]
  },
  {
   "cell_type": "markdown",
   "id": "2cbdc6ee-5aab-4bd0-8b41-755e677dad93",
   "metadata": {},
   "source": [
    "### transform_scatter will transform the scatter plot of hexes to fit the new map. the coordinates for each transformed centroid will be stored in the \"new_coords\" variable (in order of hex ID). You can access the transform parameters in the global variable \"transformParams\""
   ]
  },
  {
   "cell_type": "code",
   "execution_count": 38,
   "id": "6e159f9e-752e-4d56-8f35-6c0cc38152a5",
   "metadata": {
    "tags": []
   },
   "outputs": [],
   "source": [
    "transform_scatter(np.hstack([centroids,np.ones((len(centroids),1))]),vid.get_data(1000),rotate_center=[640/2,480/2])"
   ]
  },
  {
   "cell_type": "code",
   "execution_count": 39,
   "id": "81930246-6c2f-489a-830a-e34740ac2ff3",
   "metadata": {},
   "outputs": [
    {
     "data": {
      "text/plain": [
       "[1.8461538461538467, 1.008205128205128, -3.589743589743648, 12.307692307692264]"
      ]
     },
     "execution_count": 39,
     "metadata": {},
     "output_type": "execute_result"
    }
   ],
   "source": [
    "transformParams"
   ]
  },
  {
   "cell_type": "markdown",
   "id": "4af76ffc-9e92-47dc-8cae-f9cdcf564d2d",
   "metadata": {},
   "source": [
    "### save the transform parameters for quick future access"
   ]
  },
  {
   "cell_type": "code",
   "execution_count": 40,
   "id": "97f953e1-2104-4e36-b9a4-8815b9c828f9",
   "metadata": {},
   "outputs": [
    {
     "name": "stdout",
     "output_type": "stream",
     "text": [
      "latest saved in /Volumes/Tim-1/Photometry/IM-1372/06042021/transformparams.npy\n"
     ]
    }
   ],
   "source": [
    "np.save(datepath+\"transformparams.npy\",transformParams)\n",
    "print(\"latest saved in \"+datepath+\"transformparams.npy\")"
   ]
  },
  {
   "cell_type": "markdown",
   "id": "a5314a69-d69a-45ab-b233-7b79952baf69",
   "metadata": {},
   "source": [
    "### load transform parameters if fit has already been established and saved"
   ]
  },
  {
   "cell_type": "code",
   "execution_count": 31,
   "id": "890a30d3-9929-4c4c-9ea0-d2c8e57015af",
   "metadata": {},
   "outputs": [],
   "source": [
    "paramLoadPath = \"/Volumes/Tim-1/Photometry/IM-1372/06062021/\"\n",
    "[rotate_deg,scale,translate_x,translate_y] = np.load(paramLoadPath+\"transformparams.npy\")\n",
    "\n",
    "points = np.hstack([centroids,np.ones((len(centroids),1))])\n",
    "\n",
    "rotate_center=[640/2,480/2]\n",
    "# Scale\n",
    "scale_matrix = np.array([[scale, 0, 0],\n",
    "                         [0, scale, 0],\n",
    "                         [0, 0, 1]])\n",
    "\n",
    "# Translate\n",
    "translate_matrix = np.array([[1, 0, translate_x],\n",
    "                             [0, 1, translate_y],\n",
    "                             [0, 0, 1]])\n",
    "\n",
    "# Rotate\n",
    "rotate_rad = np.deg2rad(rotate_deg)\n",
    "rotate_matrix = np.array([[np.cos(rotate_rad), -np.sin(rotate_rad), 0],\n",
    "                          [np.sin(rotate_rad), np.cos(rotate_rad), 0],\n",
    "                          [0, 0, 1]])\n",
    "\n",
    "# Rotate around specified center\n",
    "center_matrix = np.array([[1, 0, rotate_center[0]],\n",
    "                          [0, 1, rotate_center[1]],\n",
    "                          [0, 0, 1]])\n",
    "center_translate_matrix = np.array([[1, 0, -rotate_center[0]],\n",
    "                                    [0, 1, -rotate_center[1]],\n",
    "                                    [0, 0, 1]])\n",
    "rotate_around_center_matrix = center_translate_matrix.dot(rotate_matrix).dot(center_matrix)\n",
    "\n",
    "# Transform points\n",
    "transform_matrix = rotate_around_center_matrix.dot(scale_matrix).dot(translate_matrix)\n",
    "transformed_points = transform_matrix.dot(points.T).T\n",
    "\n",
    "new_coords = transformed_points[:,:2]"
   ]
  },
  {
   "cell_type": "code",
   "execution_count": 37,
   "id": "9b2f6a5e-7860-4543-a73a-a6c07149a7f1",
   "metadata": {},
   "outputs": [
    {
     "name": "stdout",
     "output_type": "stream",
     "text": [
      "1.7692307692307665 1.0099999999999998 -2.5641025641025976 9.23076923076917\n"
     ]
    }
   ],
   "source": [
    "print(rotate_deg,scale,translate_x,translate_y)"
   ]
  },
  {
   "cell_type": "markdown",
   "id": "f398c344-4673-4345-a00d-b3bf475790d6",
   "metadata": {},
   "source": [
    "# identify barriers\n",
    "## *be sure to click on the base of the barrier (where the overlaid hex is), not the top.*"
   ]
  },
  {
   "cell_type": "code",
   "execution_count": 41,
   "id": "74c4c75c-7e1a-484a-b4cc-3f3f3d0cf916",
   "metadata": {},
   "outputs": [],
   "source": [
    "all_bars = []\n",
    "bind = 0"
   ]
  },
  {
   "cell_type": "code",
   "execution_count": 42,
   "id": "5ca85856-48db-4e92-8315-34865a131512",
   "metadata": {},
   "outputs": [],
   "source": [
    "blocks = sampledata.block.unique()"
   ]
  },
  {
   "cell_type": "code",
   "execution_count": 46,
   "id": "17657fe7-0b49-478f-bd6e-68a33f8e68d2",
   "metadata": {},
   "outputs": [
    {
     "name": "stdout",
     "output_type": "stream",
     "text": [
      "max ind =  1\n"
     ]
    }
   ],
   "source": [
    "def onclick(event):\n",
    "    global ix, iy\n",
    "    ix, iy = event.xdata, event.ydata\n",
    "    print(\"x = %d, y = %d\" % (ix, iy))\n",
    "    bar_coords.append((ix, iy))\n",
    "print('max ind = ',len(blocks)-1)\n",
    "b = blocks[bind]\n",
    "ind = int(sampledata.loc[sampledata.block==b].index[int(250*300)]/250*15) #5min into block\n",
    "fig,ax = plt.subplots(figsize=(14,10))\n",
    "ax.imshow(vid.get_data(ind), extent=[0, 640, 0, 480])\n",
    "plt.scatter(new_coords[:,0],new_coords[:,1],marker='H',color='steelblue',alpha=0.5,s=1000)\n",
    "#for h in range(len(hexmap.ids)):\n",
    "#    plt.text(hexmap.new_hexes[h].centroid.x-10,hexmap.new_hexes[h].centroid.y+10,hexmap.ids[h],\\\n",
    "#            color='whitesmoke',fontweight='demibold')\n",
    "bar_coords = []\n",
    "# connect the click event handler\n",
    "cid = fig.canvas.mpl_connect('button_press_event', onclick)\n",
    "\n",
    "# show the plot\n",
    "plt.show()"
   ]
  },
  {
   "cell_type": "code",
   "execution_count": 47,
   "id": "181b25b1-2277-41e0-9531-0198926c6b99",
   "metadata": {},
   "outputs": [
    {
     "data": {
      "text/plain": [
       "[(274.18181818181824, 336.62337662337666),\n",
       " (206.2337662337663, 248.1038961038961),\n",
       " (411.948051948052, 252.46753246753246),\n",
       " (345.87012987013, 210.0779220779221),\n",
       " (312.2077922077923, 144.6233766233766),\n",
       " (210.59740259740266, 115.94805194805194),\n",
       " (415.68831168831184, 122.18181818181817),\n",
       " (419.42857142857156, 79.7922077922078),\n",
       " (242.38961038961048, 51.116883116883116)]"
      ]
     },
     "execution_count": 47,
     "metadata": {},
     "output_type": "execute_result"
    }
   ],
   "source": [
    "bar_coords"
   ]
  },
  {
   "cell_type": "code",
   "execution_count": 55,
   "id": "db0a8e69-68c0-4898-93dd-22b18229fff4",
   "metadata": {},
   "outputs": [],
   "source": [
    "all_bars.append(assign_to_hexagon(np.array(bar_coords)[:,0],np.array(bar_coords)[:,1],new_coords))\n",
    "bind += 1"
   ]
  },
  {
   "cell_type": "markdown",
   "id": "baeea02a-7b8b-4b3c-b249-f7965443de9d",
   "metadata": {},
   "source": [
    "# convert position to hex ID"
   ]
  },
  {
   "cell_type": "code",
   "execution_count": 48,
   "id": "984e2e25-13a2-473c-8da9-47a9fd6a9b83",
   "metadata": {},
   "outputs": [
    {
     "name": "stderr",
     "output_type": "stream",
     "text": [
      "<ipython-input-2-c3d0fabc7fb2>:87: FutureWarning: Support for multi-dimensional indexing (e.g. `obj[:, None]`) is deprecated and will be removed in a future version.  Convert to a numpy array before indexing instead.\n",
      "  distances = np.sqrt((x[:, np.newaxis] - centroids[:, 0])**2 + (y[:, np.newaxis] - centroids[:, 1])**2)\n"
     ]
    }
   ],
   "source": [
    "hexes = assign_to_hexagon(sampledata.loc[sampledata.x.notnull(),'x'],sampledata.loc[sampledata.x.notnull(),'y'],new_coords)"
   ]
  },
  {
   "cell_type": "markdown",
   "id": "0e811a0f-aef7-4fc2-945b-4127320279e6",
   "metadata": {},
   "source": [
    "## sanity check that position is getting binned in the correct hexes"
   ]
  },
  {
   "cell_type": "code",
   "execution_count": 49,
   "id": "2adcdd07-0628-4684-a384-e9e2c3d33817",
   "metadata": {},
   "outputs": [
    {
     "data": {
      "text/plain": [
       "<matplotlib.collections.PathCollection at 0x7f87ed077e80>"
      ]
     },
     "execution_count": 49,
     "metadata": {},
     "output_type": "execute_result"
    }
   ],
   "source": [
    "plt.figure()\n",
    "plt.scatter(sampledata.loc[sampledata.x.notnull(),'x'].values,sampledata.loc[sampledata.x.notnull(),'y'].values,color='darkred')\n",
    "plt.scatter(new_coords[:,0],new_coords[:,1],marker='H',color='steelblue',alpha=0.5,s=1000)"
   ]
  },
  {
   "cell_type": "code",
   "execution_count": 51,
   "id": "d59fc757-b36a-4dc5-bc20-664b637ba4ac",
   "metadata": {},
   "outputs": [],
   "source": [
    "def plot_pos_and_its_hex(i):\n",
    "    plt.clf()\n",
    "    plt.scatter(sampledata.loc[sampledata.x.notnull(),'x'].values[i],sampledata.loc[sampledata.x.notnull(),'y'].values[i])\n",
    "    plt.scatter(new_coords[:,0],new_coords[:,1],marker='H',color='steelblue',alpha=0.5,s=1000)\n",
    "    plt.scatter(new_coords[hexes[i]-1,0],new_coords[hexes[i]-1,1],marker='H',color='darkred',alpha=0.5,s=1000)"
   ]
  },
  {
   "cell_type": "code",
   "execution_count": 52,
   "id": "0ad9809b-db7e-4348-9a5a-ecdf33b072e7",
   "metadata": {},
   "outputs": [
    {
     "data": {
      "application/vnd.jupyter.widget-view+json": {
       "model_id": "6962933c70404df3a2f80502586af7e6",
       "version_major": 2,
       "version_minor": 0
      },
      "text/plain": [
       "interactive(children=(IntSlider(value=20000, description='frame #:', max=90838, min=1), Output()), _dom_classe…"
      ]
     },
     "metadata": {},
     "output_type": "display_data"
    },
    {
     "data": {
      "text/plain": [
       "<function __main__.plot_pos_and_its_hex(i)>"
      ]
     },
     "execution_count": 52,
     "metadata": {},
     "output_type": "execute_result"
    }
   ],
   "source": [
    "plt.figure()\n",
    "interact(plot_pos_and_its_hex,i = widgets.IntSlider(\n",
    "    value=20000,\n",
    "    min=1,\n",
    "    max=len(sampledata.loc[sampledata.x.notnull(),'x']),\n",
    "    step=1,\n",
    "    description='frame #:'))"
   ]
  },
  {
   "cell_type": "code",
   "execution_count": 53,
   "id": "74732964-5fad-4cb7-84e0-99a47c92a93c",
   "metadata": {},
   "outputs": [],
   "source": [
    "#seshdat = Photrat(animal,date)\n",
    "#seshdat.df = sampledata"
   ]
  },
  {
   "cell_type": "code",
   "execution_count": 56,
   "id": "548b2f08-ac79-4021-bbfd-1b75733e534b",
   "metadata": {},
   "outputs": [
    {
     "data": {
      "text/plain": [
       "[array([ 8, 15, 18, 21, 30, 34, 37, 46, 39]),\n",
       " array([ 8, 18, 15, 20, 30, 37, 34, 39, 46])]"
      ]
     },
     "execution_count": 56,
     "metadata": {},
     "output_type": "execute_result"
    }
   ],
   "source": [
    "all_bars"
   ]
  },
  {
   "cell_type": "code",
   "execution_count": 52,
   "id": "55600bc8-45f3-4766-b350-14d40a39e9fc",
   "metadata": {},
   "outputs": [],
   "source": [
    "all_bars[0] = np.concatenate([all_bars[0],[19]])"
   ]
  },
  {
   "cell_type": "code",
   "execution_count": 57,
   "id": "67b96963-e3b5-45d9-bd66-ec53d09a0b0c",
   "metadata": {},
   "outputs": [],
   "source": [
    "#seshdat.barIDs = np.array(barrier_ids)\n",
    "#if barrier session, do for each block\n",
    "#seshdat.tmats = {b:[] for b in np.arange(len(blocks))}\n",
    "if ses_type == 'barrier':\n",
    "    segments = []\n",
    "    branches = []\n",
    "    for b in range(len(blocks)):\n",
    "        hexmap.bar_ids = all_bars[b]\n",
    "        hexmap.bar_ids = [float(f) for f in hexmap.bar_ids]\n",
    "        mapfig = plot_hex_outline(size='lg',bars=hexmap.bar_ids)\n",
    "        mapfig.savefig(datepath+\"/hex_layout_block\"+str(blocks[b])+\".pdf\")\n",
    "        plt.title('animal: '+animal+'. Block '+str(blocks[b])+'. '+date)\n",
    "        transition_matrix = hexmap.plot_sesh_tmat(blocks[b])\n",
    "        #seshdat.tmats[b] = transition_matrix\n",
    "        plt.title('animal: '+animal+'. Block '+str(blocks[b])+'. '+date)\n",
    "        plt.tight_layout()\n",
    "        np.save(datepath+\"/tmat_block_\"+str(blocks[b]),transition_matrix)\n",
    "    np.save(datepath+'/segments',segments)\n",
    "else:\n",
    "    hexmap.bar_ids = all_bars[0]\n",
    "    hexmap.bar_ids = [float(f) for f in hexmap.bar_ids]\n",
    "    mapfig = plot_hex_outline(size='lg',bars=hexmap.bar_ids)\n",
    "    mapfig.savefig(datepath+\"/hex_layout.pdf\")\n",
    "    plt.title('animal: '+animal+'. '+date)\n",
    "    transition_matrix = hexmap.plot_sesh_tmat()\n",
    "    #seshdat.tmats[0] = transition_matrix\n",
    "    plt.title('animal: '+animal+'. '+date)\n",
    "    plt.tight_layout()\n",
    "    np.save(datepath+\"/tmat\",transition_matrix)"
   ]
  },
  {
   "cell_type": "markdown",
   "id": "3709ae08-fd6e-494a-b9be-752666e722f8",
   "metadata": {},
   "source": [
    "# mark critical choice points (where rat has option to choose one port with left choice, and a different port with right choice)"
   ]
  },
  {
   "cell_type": "code",
   "execution_count": 58,
   "id": "2a2d0e98-8076-4bcb-aa09-ed8296f67097",
   "metadata": {},
   "outputs": [],
   "source": [
    "crit_cps = [[24],[26]]\n",
    "if ses_type == 'barrier':\n",
    "    for b in range(len(blocks)):\n",
    "        np.save(datepath+\"/cps_block_\"+str(blocks[b]),crit_cps[b])\n",
    "else:\n",
    "    np.save(datepath+\"/cps\",crit_cps[0])"
   ]
  },
  {
   "cell_type": "markdown",
   "id": "7424bf80-5c24-45b3-8bbb-a9d62059327b",
   "metadata": {},
   "source": [
    "# add hexes to dataframe"
   ]
  },
  {
   "cell_type": "code",
   "execution_count": 59,
   "id": "2eb3151f-2212-45a4-911b-91be1878cbc9",
   "metadata": {},
   "outputs": [],
   "source": [
    "sampledata.loc[:,'hexlabels'] = -1\n",
    "sampledata.loc[sampledata.x.notnull(),'hexlabels'] = hexes\n",
    "sampledata.loc[:,'hexlabels'] = sampledata.loc[:,'hexlabels'].replace(-1,method='ffill')"
   ]
  },
  {
   "cell_type": "markdown",
   "id": "565f539a-3677-42d9-8e7f-6b6d1cc3f5ec",
   "metadata": {},
   "source": [
    "# save final dataframe"
   ]
  },
  {
   "cell_type": "code",
   "execution_count": 60,
   "id": "c9504f19-2703-41ae-b00d-e352042e3f3e",
   "metadata": {},
   "outputs": [],
   "source": [
    "sampledata.to_csv(savepath+animal+'_'+date+'_'+'h_sampleframe.csv')"
   ]
  },
  {
   "cell_type": "markdown",
   "id": "ca9e9d7a-948b-45e5-934f-95f4179ba7e7",
   "metadata": {},
   "source": [
    "## check and save reward response of DA"
   ]
  },
  {
   "cell_type": "code",
   "execution_count": 31,
   "id": "20fc8da7-9d9f-4c8f-9731-de2c151e8180",
   "metadata": {},
   "outputs": [],
   "source": [
    "rwd_traces = []\n",
    "om_traces = []\n",
    "xvals = np.arange(-5*250,5*250+1)/250\n",
    "for i in visinds:\n",
    "    if sampledata.loc[i,'rwd']==1:\n",
    "        rwd_traces.append(sampledata.loc[i-250*5:i+250*5,\"green_z_scored\"].values)\n",
    "    else:\n",
    "        trace = sampledata.loc[i-250*5:i+250*5,\"green_z_scored\"].values\n",
    "        if len(trace)==len(xvals):\n",
    "            om_traces.append(trace)\n",
    "fig = plt.figure()\n",
    "plt.plot(xvals,np.mean(rwd_traces,axis=0),color='firebrick',alpha=0.8)\n",
    "plt.plot(xvals,np.mean(om_traces,axis=0),color='blue',alpha=0.8)\n",
    "plt.axvline(x=0,ls='--',color='k')\n",
    "plt.xlabel(\"time from port entry (s)\",fontsize='xx-large')\n",
    "plt.ylabel(\"DA (z-scored)\",fontsize='xx-large')\n",
    "plt.tight_layout()\n",
    "fig.savefig(datepath+\"meanRwdOmRespone.pdf\")"
   ]
  },
  {
   "cell_type": "code",
   "execution_count": null,
   "id": "2163105a-e538-450f-8e7f-209901522c60",
   "metadata": {},
   "outputs": [],
   "source": []
  }
 ],
 "metadata": {
  "kernelspec": {
   "display_name": "Python 3",
   "language": "python",
   "name": "python3"
  },
  "language_info": {
   "codemirror_mode": {
    "name": "ipython",
    "version": 3
   },
   "file_extension": ".py",
   "mimetype": "text/x-python",
   "name": "python",
   "nbconvert_exporter": "python",
   "pygments_lexer": "ipython3",
   "version": "3.8.8"
  }
 },
 "nbformat": 4,
 "nbformat_minor": 5
}
