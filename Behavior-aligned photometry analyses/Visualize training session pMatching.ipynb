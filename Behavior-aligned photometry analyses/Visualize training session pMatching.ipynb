{
 "cells": [
  {
   "cell_type": "markdown",
   "id": "1d5e9371-4485-4140-9d2e-b0f9e9003196",
   "metadata": {},
   "source": [
    "# Notebook to read probability variant data from maze and visualize port choices over trials"
   ]
  },
  {
   "cell_type": "code",
   "execution_count": null,
   "id": "585d06c7-4248-481a-9e2c-53f81c2e3e57",
   "metadata": {},
   "outputs": [],
   "source": [
    "import numpy as np\n",
    "import pandas as pd\n",
    "import csv\n",
    "import matplotlib.pyplot as plt\n",
    "%matplotlib qt"
   ]
  },
  {
   "cell_type": "markdown",
   "id": "9ab6ca24-a448-429f-b757-4c0144571e53",
   "metadata": {},
   "source": [
    "- Here, you will specify which animal and date to record from\n",
    "  - Be sure filepath specifies the directory of the stored data"
   ]
  },
  {
   "cell_type": "code",
   "execution_count": null,
   "id": "70ba7278-db6a-4ea9-a895-cd8e33d05d57",
   "metadata": {},
   "outputs": [],
   "source": [
    "animal = \"IM-\"+input('rat IM#: ') #i.e. IM-1006\n",
    "date = input('date: ') #format: mmddyyyy\n",
    "ses_type = \"prob\"#input('Block change = prob or barrier? ')\n",
    "filecount = input('file suffix number: ')\n",
    "filepath = \"/Volumes/Tim/Photometry/\"+ animal + '/'\n",
    "\n",
    "#Now read data\n",
    "import create_triframe\n",
    "\n",
    "tridat = create_triframe.tridat"
   ]
  },
  {
   "cell_type": "markdown",
   "id": "a752455e-f539-4487-8e20-e22c9f9a1124",
   "metadata": {},
   "source": [
    "- run the following to plot probability matching over time and create figure object for later saving"
   ]
  },
  {
   "cell_type": "code",
   "execution_count": null,
   "id": "c7d86535-84dc-4358-b062-fa11bde27375",
   "metadata": {},
   "outputs": [],
   "source": [
    "bdt = create_triframe.plot_prob_matching(tridat)"
   ]
  },
  {
   "cell_type": "markdown",
   "id": "1d5a87f2-51cd-470d-8238-3257da3308c0",
   "metadata": {},
   "source": [
    "- run the following to save the figure object \"bdt\" in the behavioral directory"
   ]
  },
  {
   "cell_type": "code",
   "execution_count": null,
   "id": "67d3c29b-334c-4499-bb70-6dc40419eb6d",
   "metadata": {},
   "outputs": [],
   "source": [
    "bdt.savefig(create_triframe.savepath+'p_matching_in_time.pdf')"
   ]
  }
 ],
 "metadata": {
  "kernelspec": {
   "display_name": "Python 3",
   "language": "python",
   "name": "python3"
  },
  "language_info": {
   "codemirror_mode": {
    "name": "ipython",
    "version": 3
   },
   "file_extension": ".py",
   "mimetype": "text/x-python",
   "name": "python",
   "nbconvert_exporter": "python",
   "pygments_lexer": "ipython3",
   "version": "3.8.8"
  }
 },
 "nbformat": 4,
 "nbformat_minor": 5
}
